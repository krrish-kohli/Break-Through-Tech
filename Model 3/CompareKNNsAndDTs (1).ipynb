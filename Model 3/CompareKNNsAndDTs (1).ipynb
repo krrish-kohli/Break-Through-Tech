{
 "cells": [
  {
   "cell_type": "markdown",
   "metadata": {},
   "source": [
    "# Lab 3: ML Life Cycle: Modeling"
   ]
  },
  {
   "cell_type": "code",
   "execution_count": 93,
   "metadata": {},
   "outputs": [],
   "source": [
    "import pandas as pd\n",
    "import numpy as np\n",
    "import os \n",
    "import matplotlib.pyplot as plt\n",
    "import seaborn as sns\n",
    "\n",
    "from sklearn.model_selection import train_test_split \n",
    "from sklearn.preprocessing import OneHotEncoder \n",
    "from sklearn.tree import DecisionTreeClassifier\n",
    "from sklearn.neighbors import KNeighborsClassifier\n",
    "from sklearn.metrics import accuracy_score"
   ]
  },
  {
   "cell_type": "markdown",
   "metadata": {},
   "source": [
    "Decision Trees (DTs) and KNNs have many similarities. They are models that are fairly simple and intuitive to understand, can be used to solve both classification and regression problems, and are non-parametric models, meaning that they don't assume a particular relationship between the features and the label prior to training. However, KNNs and DTs each have their own advantages and disadvantages. In addition, one model may be better suited than the other for a particular machine learning problem based on multiple factors, such as the size and quality of the data, the problem-type and the hyperparameter configuration. For example, KNNs require feature values to be scaled, whereas DTs do not. DTs are also able to handle noisy data better than KNNs. \n",
    "\n",
    "Often times, it is beneficial to train multiple models on your training data to find the one that performs the best on the test data. "
   ]
  },
  {
   "cell_type": "markdown",
   "metadata": {},
   "source": [
    "In this lab, you will continue practicing the modeling phase of the machine learning life cycle. You will train Decision Trees and KNN models to solve a classification problem. You will experiment training multiple variations of the models with different hyperparameter values to find the best performing model for your predictive problem. You will complete the following tasks:\n",
    "    \n",
    "    \n",
    "1. Build your DataFrame and define your ML problem:\n",
    "    * Load the Airbnb \"listings\" data set\n",
    "    * Define the label - what are you predicting?\n",
    "    * Identify the features\n",
    "2. Prepare your data:\n",
    "    * Perform feature engineering by converting categorical features to one-hot encoded values\n",
    "3. Create labeled examples from the data set\n",
    "4. Split the data into training and test data sets\n",
    "5. Train multiple decision trees and evaluate their performances:\n",
    "    * Fit Decision Tree classifiers to the training data using different hyperparameter values per classifier\n",
    "    * Evaluate the accuracy of the models' predictions\n",
    "    * Plot the accuracy of each DT model as a function of hyperparameter max depth\n",
    "6. Train multiple KNN classifiers and evaluate their performances:\n",
    "    * Fit KNN classifiers to the training data using different hyperparameter values per classifier\n",
    "    * Evaluate the accuracy of the models' predictions\n",
    "    * Plot the accuracy of each KNN model as a function of hyperparameter $k$\n",
    "7. Analysis:\n",
    "   * Determine which is the best performing model \n",
    "   * Experiment with other factors that can help determine the best performing model"
   ]
  },
  {
   "cell_type": "markdown",
   "metadata": {},
   "source": [
    "## Part 1. Build Your DataFrame and Define Your ML Problem"
   ]
  },
  {
   "cell_type": "markdown",
   "metadata": {},
   "source": [
    "#### Load a Data Set and Save it as a Pandas DataFrame\n"
   ]
  },
  {
   "cell_type": "markdown",
   "metadata": {},
   "source": [
    "We will work with a new preprocessed, slimmed down version of the Airbnb NYC \"listings\" data set. This version is almost ready for modeling, with missing values and outliers taken care of. Also note that unstructured fields have been removed."
   ]
  },
  {
   "cell_type": "code",
   "execution_count": 94,
   "metadata": {},
   "outputs": [],
   "source": [
    "# Do not remove or edit the line below:\n",
    "filename = os.path.join(os.getcwd(), \"data\", \"airbnbData_Prepared.csv\")"
   ]
  },
  {
   "cell_type": "markdown",
   "metadata": {},
   "source": [
    "<b>Task</b>: Load the data set into a Pandas DataFrame variable named `df`."
   ]
  },
  {
   "cell_type": "code",
   "execution_count": 95,
   "metadata": {},
   "outputs": [],
   "source": [
    "df = pd.read_csv(filename)"
   ]
  },
  {
   "cell_type": "markdown",
   "metadata": {},
   "source": [
    "####  Inspect the Data"
   ]
  },
  {
   "cell_type": "markdown",
   "metadata": {},
   "source": [
    "<b>Task</b>: In the code cell below, inspect the data in DataFrame `df` by printing the number of rows and columns, the column names, and the first ten rows. You may perform any other techniques you'd like to inspect the data."
   ]
  },
  {
   "cell_type": "code",
   "execution_count": 96,
   "metadata": {},
   "outputs": [
    {
     "data": {
      "text/plain": [
       "(28022, 43)"
      ]
     },
     "execution_count": 96,
     "metadata": {},
     "output_type": "execute_result"
    }
   ],
   "source": [
    "df.shape"
   ]
  },
  {
   "cell_type": "markdown",
   "metadata": {},
   "source": [
    "#### Define the Label\n",
    "\n",
    "Assume that your goal is to train a machine learning model that predicts whether an Airbnb host is a 'super host'. This is an example of supervised learning and is a binary classification problem. In our dataset, our label will be the `host_is_superhost` column and the label will either contain the value `True` or `False`. Let's inspect the values in the `host_is_superhost` column."
   ]
  },
  {
   "cell_type": "code",
   "execution_count": 97,
   "metadata": {},
   "outputs": [
    {
     "data": {
      "text/plain": [
       "0        False\n",
       "1        False\n",
       "2        False\n",
       "3        False\n",
       "4        False\n",
       "         ...  \n",
       "28017    False\n",
       "28018    False\n",
       "28019     True\n",
       "28020     True\n",
       "28021    False\n",
       "Name: host_is_superhost, Length: 28022, dtype: bool"
      ]
     },
     "execution_count": 97,
     "metadata": {},
     "output_type": "execute_result"
    }
   ],
   "source": [
    "df['host_is_superhost']"
   ]
  },
  {
   "cell_type": "markdown",
   "metadata": {},
   "source": [
    "#### Identify Features"
   ]
  },
  {
   "cell_type": "markdown",
   "metadata": {},
   "source": [
    "Our features will be all of the remaining columns in the dataset. \n",
    "\n",
    "<b>Task:</b> Create a list of the feature names."
   ]
  },
  {
   "cell_type": "code",
   "execution_count": 98,
   "metadata": {},
   "outputs": [
    {
     "data": {
      "text/html": [
       "<div>\n",
       "<style scoped>\n",
       "    .dataframe tbody tr th:only-of-type {\n",
       "        vertical-align: middle;\n",
       "    }\n",
       "\n",
       "    .dataframe tbody tr th {\n",
       "        vertical-align: top;\n",
       "    }\n",
       "\n",
       "    .dataframe thead th {\n",
       "        text-align: right;\n",
       "    }\n",
       "</style>\n",
       "<table border=\"1\" class=\"dataframe\">\n",
       "  <thead>\n",
       "    <tr style=\"text-align: right;\">\n",
       "      <th></th>\n",
       "      <th>host_response_rate</th>\n",
       "      <th>host_acceptance_rate</th>\n",
       "      <th>host_listings_count</th>\n",
       "      <th>host_total_listings_count</th>\n",
       "      <th>host_has_profile_pic</th>\n",
       "      <th>host_identity_verified</th>\n",
       "      <th>neighbourhood_group_cleansed</th>\n",
       "      <th>room_type</th>\n",
       "      <th>accommodates</th>\n",
       "      <th>bathrooms</th>\n",
       "      <th>...</th>\n",
       "      <th>review_scores_communication</th>\n",
       "      <th>review_scores_location</th>\n",
       "      <th>review_scores_value</th>\n",
       "      <th>instant_bookable</th>\n",
       "      <th>calculated_host_listings_count</th>\n",
       "      <th>calculated_host_listings_count_entire_homes</th>\n",
       "      <th>calculated_host_listings_count_private_rooms</th>\n",
       "      <th>calculated_host_listings_count_shared_rooms</th>\n",
       "      <th>reviews_per_month</th>\n",
       "      <th>n_host_verifications</th>\n",
       "    </tr>\n",
       "  </thead>\n",
       "  <tbody>\n",
       "    <tr>\n",
       "      <th>0</th>\n",
       "      <td>0.800000</td>\n",
       "      <td>0.170000</td>\n",
       "      <td>8</td>\n",
       "      <td>8</td>\n",
       "      <td>True</td>\n",
       "      <td>True</td>\n",
       "      <td>Manhattan</td>\n",
       "      <td>Entire home/apt</td>\n",
       "      <td>1</td>\n",
       "      <td>1.0</td>\n",
       "      <td>...</td>\n",
       "      <td>4.79</td>\n",
       "      <td>4.86</td>\n",
       "      <td>4.41</td>\n",
       "      <td>False</td>\n",
       "      <td>3</td>\n",
       "      <td>3</td>\n",
       "      <td>0</td>\n",
       "      <td>0</td>\n",
       "      <td>0.33</td>\n",
       "      <td>9</td>\n",
       "    </tr>\n",
       "    <tr>\n",
       "      <th>1</th>\n",
       "      <td>0.090000</td>\n",
       "      <td>0.690000</td>\n",
       "      <td>1</td>\n",
       "      <td>1</td>\n",
       "      <td>True</td>\n",
       "      <td>True</td>\n",
       "      <td>Brooklyn</td>\n",
       "      <td>Entire home/apt</td>\n",
       "      <td>3</td>\n",
       "      <td>1.0</td>\n",
       "      <td>...</td>\n",
       "      <td>4.80</td>\n",
       "      <td>4.71</td>\n",
       "      <td>4.64</td>\n",
       "      <td>False</td>\n",
       "      <td>1</td>\n",
       "      <td>1</td>\n",
       "      <td>0</td>\n",
       "      <td>0</td>\n",
       "      <td>4.86</td>\n",
       "      <td>6</td>\n",
       "    </tr>\n",
       "    <tr>\n",
       "      <th>2</th>\n",
       "      <td>1.000000</td>\n",
       "      <td>0.250000</td>\n",
       "      <td>1</td>\n",
       "      <td>1</td>\n",
       "      <td>True</td>\n",
       "      <td>True</td>\n",
       "      <td>Brooklyn</td>\n",
       "      <td>Entire home/apt</td>\n",
       "      <td>4</td>\n",
       "      <td>1.5</td>\n",
       "      <td>...</td>\n",
       "      <td>5.00</td>\n",
       "      <td>4.50</td>\n",
       "      <td>5.00</td>\n",
       "      <td>False</td>\n",
       "      <td>1</td>\n",
       "      <td>1</td>\n",
       "      <td>0</td>\n",
       "      <td>0</td>\n",
       "      <td>0.02</td>\n",
       "      <td>3</td>\n",
       "    </tr>\n",
       "    <tr>\n",
       "      <th>3</th>\n",
       "      <td>1.000000</td>\n",
       "      <td>1.000000</td>\n",
       "      <td>1</td>\n",
       "      <td>1</td>\n",
       "      <td>True</td>\n",
       "      <td>False</td>\n",
       "      <td>Manhattan</td>\n",
       "      <td>Private room</td>\n",
       "      <td>2</td>\n",
       "      <td>1.0</td>\n",
       "      <td>...</td>\n",
       "      <td>4.42</td>\n",
       "      <td>4.87</td>\n",
       "      <td>4.36</td>\n",
       "      <td>False</td>\n",
       "      <td>1</td>\n",
       "      <td>0</td>\n",
       "      <td>1</td>\n",
       "      <td>0</td>\n",
       "      <td>3.68</td>\n",
       "      <td>4</td>\n",
       "    </tr>\n",
       "    <tr>\n",
       "      <th>4</th>\n",
       "      <td>0.890731</td>\n",
       "      <td>0.768297</td>\n",
       "      <td>1</td>\n",
       "      <td>1</td>\n",
       "      <td>True</td>\n",
       "      <td>True</td>\n",
       "      <td>Manhattan</td>\n",
       "      <td>Private room</td>\n",
       "      <td>1</td>\n",
       "      <td>1.0</td>\n",
       "      <td>...</td>\n",
       "      <td>4.95</td>\n",
       "      <td>4.94</td>\n",
       "      <td>4.92</td>\n",
       "      <td>False</td>\n",
       "      <td>1</td>\n",
       "      <td>0</td>\n",
       "      <td>1</td>\n",
       "      <td>0</td>\n",
       "      <td>0.87</td>\n",
       "      <td>7</td>\n",
       "    </tr>\n",
       "    <tr>\n",
       "      <th>...</th>\n",
       "      <td>...</td>\n",
       "      <td>...</td>\n",
       "      <td>...</td>\n",
       "      <td>...</td>\n",
       "      <td>...</td>\n",
       "      <td>...</td>\n",
       "      <td>...</td>\n",
       "      <td>...</td>\n",
       "      <td>...</td>\n",
       "      <td>...</td>\n",
       "      <td>...</td>\n",
       "      <td>...</td>\n",
       "      <td>...</td>\n",
       "      <td>...</td>\n",
       "      <td>...</td>\n",
       "      <td>...</td>\n",
       "      <td>...</td>\n",
       "      <td>...</td>\n",
       "      <td>...</td>\n",
       "      <td>...</td>\n",
       "      <td>...</td>\n",
       "    </tr>\n",
       "    <tr>\n",
       "      <th>28017</th>\n",
       "      <td>1.000000</td>\n",
       "      <td>1.000000</td>\n",
       "      <td>8</td>\n",
       "      <td>8</td>\n",
       "      <td>True</td>\n",
       "      <td>True</td>\n",
       "      <td>Queens</td>\n",
       "      <td>Private room</td>\n",
       "      <td>2</td>\n",
       "      <td>1.0</td>\n",
       "      <td>...</td>\n",
       "      <td>5.00</td>\n",
       "      <td>3.00</td>\n",
       "      <td>1.00</td>\n",
       "      <td>True</td>\n",
       "      <td>8</td>\n",
       "      <td>0</td>\n",
       "      <td>8</td>\n",
       "      <td>0</td>\n",
       "      <td>1.00</td>\n",
       "      <td>2</td>\n",
       "    </tr>\n",
       "    <tr>\n",
       "      <th>28018</th>\n",
       "      <td>0.910000</td>\n",
       "      <td>0.890000</td>\n",
       "      <td>0</td>\n",
       "      <td>0</td>\n",
       "      <td>True</td>\n",
       "      <td>True</td>\n",
       "      <td>Brooklyn</td>\n",
       "      <td>Entire home/apt</td>\n",
       "      <td>6</td>\n",
       "      <td>1.0</td>\n",
       "      <td>...</td>\n",
       "      <td>5.00</td>\n",
       "      <td>5.00</td>\n",
       "      <td>5.00</td>\n",
       "      <td>False</td>\n",
       "      <td>1</td>\n",
       "      <td>1</td>\n",
       "      <td>0</td>\n",
       "      <td>0</td>\n",
       "      <td>2.00</td>\n",
       "      <td>5</td>\n",
       "    </tr>\n",
       "    <tr>\n",
       "      <th>28019</th>\n",
       "      <td>0.990000</td>\n",
       "      <td>0.990000</td>\n",
       "      <td>6</td>\n",
       "      <td>6</td>\n",
       "      <td>True</td>\n",
       "      <td>True</td>\n",
       "      <td>Brooklyn</td>\n",
       "      <td>Private room</td>\n",
       "      <td>2</td>\n",
       "      <td>2.0</td>\n",
       "      <td>...</td>\n",
       "      <td>5.00</td>\n",
       "      <td>5.00</td>\n",
       "      <td>2.00</td>\n",
       "      <td>True</td>\n",
       "      <td>7</td>\n",
       "      <td>0</td>\n",
       "      <td>7</td>\n",
       "      <td>0</td>\n",
       "      <td>1.00</td>\n",
       "      <td>2</td>\n",
       "    </tr>\n",
       "    <tr>\n",
       "      <th>28020</th>\n",
       "      <td>0.900000</td>\n",
       "      <td>1.000000</td>\n",
       "      <td>3</td>\n",
       "      <td>3</td>\n",
       "      <td>True</td>\n",
       "      <td>True</td>\n",
       "      <td>Brooklyn</td>\n",
       "      <td>Entire home/apt</td>\n",
       "      <td>3</td>\n",
       "      <td>1.0</td>\n",
       "      <td>...</td>\n",
       "      <td>5.00</td>\n",
       "      <td>5.00</td>\n",
       "      <td>5.00</td>\n",
       "      <td>False</td>\n",
       "      <td>3</td>\n",
       "      <td>3</td>\n",
       "      <td>0</td>\n",
       "      <td>0</td>\n",
       "      <td>1.00</td>\n",
       "      <td>7</td>\n",
       "    </tr>\n",
       "    <tr>\n",
       "      <th>28021</th>\n",
       "      <td>0.890731</td>\n",
       "      <td>0.768297</td>\n",
       "      <td>0</td>\n",
       "      <td>0</td>\n",
       "      <td>True</td>\n",
       "      <td>False</td>\n",
       "      <td>Queens</td>\n",
       "      <td>Private room</td>\n",
       "      <td>1</td>\n",
       "      <td>1.0</td>\n",
       "      <td>...</td>\n",
       "      <td>5.00</td>\n",
       "      <td>5.00</td>\n",
       "      <td>5.00</td>\n",
       "      <td>True</td>\n",
       "      <td>1</td>\n",
       "      <td>0</td>\n",
       "      <td>1</td>\n",
       "      <td>0</td>\n",
       "      <td>1.00</td>\n",
       "      <td>1</td>\n",
       "    </tr>\n",
       "  </tbody>\n",
       "</table>\n",
       "<p>28022 rows × 42 columns</p>\n",
       "</div>"
      ],
      "text/plain": [
       "       host_response_rate  host_acceptance_rate  host_listings_count  \\\n",
       "0                0.800000              0.170000                    8   \n",
       "1                0.090000              0.690000                    1   \n",
       "2                1.000000              0.250000                    1   \n",
       "3                1.000000              1.000000                    1   \n",
       "4                0.890731              0.768297                    1   \n",
       "...                   ...                   ...                  ...   \n",
       "28017            1.000000              1.000000                    8   \n",
       "28018            0.910000              0.890000                    0   \n",
       "28019            0.990000              0.990000                    6   \n",
       "28020            0.900000              1.000000                    3   \n",
       "28021            0.890731              0.768297                    0   \n",
       "\n",
       "       host_total_listings_count  host_has_profile_pic  \\\n",
       "0                              8                  True   \n",
       "1                              1                  True   \n",
       "2                              1                  True   \n",
       "3                              1                  True   \n",
       "4                              1                  True   \n",
       "...                          ...                   ...   \n",
       "28017                          8                  True   \n",
       "28018                          0                  True   \n",
       "28019                          6                  True   \n",
       "28020                          3                  True   \n",
       "28021                          0                  True   \n",
       "\n",
       "       host_identity_verified neighbourhood_group_cleansed        room_type  \\\n",
       "0                        True                    Manhattan  Entire home/apt   \n",
       "1                        True                     Brooklyn  Entire home/apt   \n",
       "2                        True                     Brooklyn  Entire home/apt   \n",
       "3                       False                    Manhattan     Private room   \n",
       "4                        True                    Manhattan     Private room   \n",
       "...                       ...                          ...              ...   \n",
       "28017                    True                       Queens     Private room   \n",
       "28018                    True                     Brooklyn  Entire home/apt   \n",
       "28019                    True                     Brooklyn     Private room   \n",
       "28020                    True                     Brooklyn  Entire home/apt   \n",
       "28021                   False                       Queens     Private room   \n",
       "\n",
       "       accommodates  bathrooms  ...  review_scores_communication  \\\n",
       "0                 1        1.0  ...                         4.79   \n",
       "1                 3        1.0  ...                         4.80   \n",
       "2                 4        1.5  ...                         5.00   \n",
       "3                 2        1.0  ...                         4.42   \n",
       "4                 1        1.0  ...                         4.95   \n",
       "...             ...        ...  ...                          ...   \n",
       "28017             2        1.0  ...                         5.00   \n",
       "28018             6        1.0  ...                         5.00   \n",
       "28019             2        2.0  ...                         5.00   \n",
       "28020             3        1.0  ...                         5.00   \n",
       "28021             1        1.0  ...                         5.00   \n",
       "\n",
       "       review_scores_location  review_scores_value  instant_bookable  \\\n",
       "0                        4.86                 4.41             False   \n",
       "1                        4.71                 4.64             False   \n",
       "2                        4.50                 5.00             False   \n",
       "3                        4.87                 4.36             False   \n",
       "4                        4.94                 4.92             False   \n",
       "...                       ...                  ...               ...   \n",
       "28017                    3.00                 1.00              True   \n",
       "28018                    5.00                 5.00             False   \n",
       "28019                    5.00                 2.00              True   \n",
       "28020                    5.00                 5.00             False   \n",
       "28021                    5.00                 5.00              True   \n",
       "\n",
       "       calculated_host_listings_count  \\\n",
       "0                                   3   \n",
       "1                                   1   \n",
       "2                                   1   \n",
       "3                                   1   \n",
       "4                                   1   \n",
       "...                               ...   \n",
       "28017                               8   \n",
       "28018                               1   \n",
       "28019                               7   \n",
       "28020                               3   \n",
       "28021                               1   \n",
       "\n",
       "       calculated_host_listings_count_entire_homes  \\\n",
       "0                                                3   \n",
       "1                                                1   \n",
       "2                                                1   \n",
       "3                                                0   \n",
       "4                                                0   \n",
       "...                                            ...   \n",
       "28017                                            0   \n",
       "28018                                            1   \n",
       "28019                                            0   \n",
       "28020                                            3   \n",
       "28021                                            0   \n",
       "\n",
       "       calculated_host_listings_count_private_rooms  \\\n",
       "0                                                 0   \n",
       "1                                                 0   \n",
       "2                                                 0   \n",
       "3                                                 1   \n",
       "4                                                 1   \n",
       "...                                             ...   \n",
       "28017                                             8   \n",
       "28018                                             0   \n",
       "28019                                             7   \n",
       "28020                                             0   \n",
       "28021                                             1   \n",
       "\n",
       "       calculated_host_listings_count_shared_rooms  reviews_per_month  \\\n",
       "0                                                0               0.33   \n",
       "1                                                0               4.86   \n",
       "2                                                0               0.02   \n",
       "3                                                0               3.68   \n",
       "4                                                0               0.87   \n",
       "...                                            ...                ...   \n",
       "28017                                            0               1.00   \n",
       "28018                                            0               2.00   \n",
       "28019                                            0               1.00   \n",
       "28020                                            0               1.00   \n",
       "28021                                            0               1.00   \n",
       "\n",
       "       n_host_verifications  \n",
       "0                         9  \n",
       "1                         6  \n",
       "2                         3  \n",
       "3                         4  \n",
       "4                         7  \n",
       "...                     ...  \n",
       "28017                     2  \n",
       "28018                     5  \n",
       "28019                     2  \n",
       "28020                     7  \n",
       "28021                     1  \n",
       "\n",
       "[28022 rows x 42 columns]"
      ]
     },
     "execution_count": 98,
     "metadata": {},
     "output_type": "execute_result"
    }
   ],
   "source": [
    "df.drop('host_is_superhost', axis=1)"
   ]
  },
  {
   "cell_type": "markdown",
   "metadata": {},
   "source": [
    "## Part 2. Prepare Your Data\n",
    "\n",
    "Many of the data preparation techniques that you practiced in Unit two have already been performed and the data is almost ready for modeling. The one exception is that a few string-valued categorical features remain. Let's perform one-hot encoding to transform these features into numerical boolean values. This will result in a data set that we can use for modeling."
   ]
  },
  {
   "cell_type": "markdown",
   "metadata": {},
   "source": [
    "#### Identify the Features that Should be One-Hot Encoded"
   ]
  },
  {
   "cell_type": "markdown",
   "metadata": {},
   "source": [
    "**Task**: Find all of the columns whose values are of type 'object' and add the column names to a list named `to_encode`."
   ]
  },
  {
   "cell_type": "code",
   "execution_count": 99,
   "metadata": {},
   "outputs": [],
   "source": [
    "to_encode = df.select_dtypes(include=object).columns.to_list()"
   ]
  },
  {
   "cell_type": "markdown",
   "metadata": {},
   "source": [
    "**Task**: Find the number of unique values each column in `to_encode` has:"
   ]
  },
  {
   "cell_type": "code",
   "execution_count": 100,
   "metadata": {},
   "outputs": [
    {
     "data": {
      "text/plain": [
       "neighbourhood_group_cleansed    5\n",
       "room_type                       4\n",
       "dtype: int64"
      ]
     },
     "execution_count": 100,
     "metadata": {},
     "output_type": "execute_result"
    }
   ],
   "source": [
    "df[to_encode].nunique()"
   ]
  },
  {
   "cell_type": "markdown",
   "metadata": {},
   "source": [
    "#### One-Hot Encode the Features"
   ]
  },
  {
   "cell_type": "markdown",
   "metadata": {},
   "source": [
    "Instead of one-hot encoding each column using the NumPy `np.where()` or Pandas `pd.get_dummies()` functions, we can use the more robust `OneHotEncoder` transformation class from `sklearn`. For more information, consult the online [documentation](https://scikit-learn.org/stable/modules/generated/sklearn.preprocessing.OneHotEncoder.html). "
   ]
  },
  {
   "cell_type": "markdown",
   "metadata": {},
   "source": [
    "\n",
    "<b><i>Note:</i></b> We are working with `sklearn` version 0.22.2. You can find documentation for the `OneHotEncoder` class that that corresponds to our version of `sklearn` [here](https://scikit-learn.org/0.20/modules/generated/sklearn.preprocessing.OneHotEncoder.html). When choosing which features of the  `OneHotEncoder` class to use, do not use features that have been introduced in newer versions of `sklearn`. For example, you should specify the parameter `sparse=False` when calling `OneHotEncoder()` to create an encoder object. The documentation notes that the latest version of `sklearn` uses the `sparse_ouput` parameter instead of `sparse`, but you should stick with `sparse`.\n",
    "\n",
    "<b>Task</b>: Refer to the documenation and follow the instructions in the code cell below to create one-hot encoded features."
   ]
  },
  {
   "cell_type": "code",
   "execution_count": 101,
   "metadata": {},
   "outputs": [],
   "source": [
    "from sklearn.preprocessing import OneHotEncoder  # Import OneHotEncoder\n",
    "\n",
    "# Create the encoder:\n",
    "# Create the  Scikit-learn OneHotEncoder object below and assign to variable 'enc'.\n",
    "# When calling OneHotEncoder(), specify that the 'sparse' parameter is False\n",
    "enc = OneHotEncoder(sparse=False)\n",
    "encoded_array = enc.fit_transform(df[to_encode])\n",
    "\n",
    "# Apply the encoder:\n",
    "# Use the method 'enc.fit_transform() to fit the encoder to the data (the two columns) and transform the data into \n",
    "# one-hot encoded values\n",
    "# Convert the results to a DataFrame and save it to variable 'df_enc'\n",
    "df_enc = pd.DataFrame(encoded_array, columns=enc.get_feature_names(to_encode))\n"
   ]
  },
  {
   "cell_type": "markdown",
   "metadata": {},
   "source": [
    "Let's inspect our new DataFrame `df_enc` that contains the one-hot encoded columns."
   ]
  },
  {
   "cell_type": "code",
   "execution_count": 102,
   "metadata": {},
   "outputs": [
    {
     "data": {
      "text/html": [
       "<div>\n",
       "<style scoped>\n",
       "    .dataframe tbody tr th:only-of-type {\n",
       "        vertical-align: middle;\n",
       "    }\n",
       "\n",
       "    .dataframe tbody tr th {\n",
       "        vertical-align: top;\n",
       "    }\n",
       "\n",
       "    .dataframe thead th {\n",
       "        text-align: right;\n",
       "    }\n",
       "</style>\n",
       "<table border=\"1\" class=\"dataframe\">\n",
       "  <thead>\n",
       "    <tr style=\"text-align: right;\">\n",
       "      <th></th>\n",
       "      <th>neighbourhood_group_cleansed_Bronx</th>\n",
       "      <th>neighbourhood_group_cleansed_Brooklyn</th>\n",
       "      <th>neighbourhood_group_cleansed_Manhattan</th>\n",
       "      <th>neighbourhood_group_cleansed_Queens</th>\n",
       "      <th>neighbourhood_group_cleansed_Staten Island</th>\n",
       "      <th>room_type_Entire home/apt</th>\n",
       "      <th>room_type_Hotel room</th>\n",
       "      <th>room_type_Private room</th>\n",
       "      <th>room_type_Shared room</th>\n",
       "    </tr>\n",
       "  </thead>\n",
       "  <tbody>\n",
       "    <tr>\n",
       "      <th>0</th>\n",
       "      <td>0.0</td>\n",
       "      <td>0.0</td>\n",
       "      <td>1.0</td>\n",
       "      <td>0.0</td>\n",
       "      <td>0.0</td>\n",
       "      <td>1.0</td>\n",
       "      <td>0.0</td>\n",
       "      <td>0.0</td>\n",
       "      <td>0.0</td>\n",
       "    </tr>\n",
       "    <tr>\n",
       "      <th>1</th>\n",
       "      <td>0.0</td>\n",
       "      <td>1.0</td>\n",
       "      <td>0.0</td>\n",
       "      <td>0.0</td>\n",
       "      <td>0.0</td>\n",
       "      <td>1.0</td>\n",
       "      <td>0.0</td>\n",
       "      <td>0.0</td>\n",
       "      <td>0.0</td>\n",
       "    </tr>\n",
       "    <tr>\n",
       "      <th>2</th>\n",
       "      <td>0.0</td>\n",
       "      <td>1.0</td>\n",
       "      <td>0.0</td>\n",
       "      <td>0.0</td>\n",
       "      <td>0.0</td>\n",
       "      <td>1.0</td>\n",
       "      <td>0.0</td>\n",
       "      <td>0.0</td>\n",
       "      <td>0.0</td>\n",
       "    </tr>\n",
       "    <tr>\n",
       "      <th>3</th>\n",
       "      <td>0.0</td>\n",
       "      <td>0.0</td>\n",
       "      <td>1.0</td>\n",
       "      <td>0.0</td>\n",
       "      <td>0.0</td>\n",
       "      <td>0.0</td>\n",
       "      <td>0.0</td>\n",
       "      <td>1.0</td>\n",
       "      <td>0.0</td>\n",
       "    </tr>\n",
       "    <tr>\n",
       "      <th>4</th>\n",
       "      <td>0.0</td>\n",
       "      <td>0.0</td>\n",
       "      <td>1.0</td>\n",
       "      <td>0.0</td>\n",
       "      <td>0.0</td>\n",
       "      <td>0.0</td>\n",
       "      <td>0.0</td>\n",
       "      <td>1.0</td>\n",
       "      <td>0.0</td>\n",
       "    </tr>\n",
       "  </tbody>\n",
       "</table>\n",
       "</div>"
      ],
      "text/plain": [
       "   neighbourhood_group_cleansed_Bronx  neighbourhood_group_cleansed_Brooklyn  \\\n",
       "0                                 0.0                                    0.0   \n",
       "1                                 0.0                                    1.0   \n",
       "2                                 0.0                                    1.0   \n",
       "3                                 0.0                                    0.0   \n",
       "4                                 0.0                                    0.0   \n",
       "\n",
       "   neighbourhood_group_cleansed_Manhattan  \\\n",
       "0                                     1.0   \n",
       "1                                     0.0   \n",
       "2                                     0.0   \n",
       "3                                     1.0   \n",
       "4                                     1.0   \n",
       "\n",
       "   neighbourhood_group_cleansed_Queens  \\\n",
       "0                                  0.0   \n",
       "1                                  0.0   \n",
       "2                                  0.0   \n",
       "3                                  0.0   \n",
       "4                                  0.0   \n",
       "\n",
       "   neighbourhood_group_cleansed_Staten Island  room_type_Entire home/apt  \\\n",
       "0                                         0.0                        1.0   \n",
       "1                                         0.0                        1.0   \n",
       "2                                         0.0                        1.0   \n",
       "3                                         0.0                        0.0   \n",
       "4                                         0.0                        0.0   \n",
       "\n",
       "   room_type_Hotel room  room_type_Private room  room_type_Shared room  \n",
       "0                   0.0                     0.0                    0.0  \n",
       "1                   0.0                     0.0                    0.0  \n",
       "2                   0.0                     0.0                    0.0  \n",
       "3                   0.0                     1.0                    0.0  \n",
       "4                   0.0                     1.0                    0.0  "
      ]
     },
     "execution_count": 102,
     "metadata": {},
     "output_type": "execute_result"
    }
   ],
   "source": [
    "df_enc.head()"
   ]
  },
  {
   "cell_type": "markdown",
   "metadata": {},
   "source": [
    "Notice that the column names are numerical. \n",
    "\n",
    "<b>Task:</b> Complete the code below to reinstate the original column names.\n"
   ]
  },
  {
   "cell_type": "code",
   "execution_count": 103,
   "metadata": {},
   "outputs": [],
   "source": [
    "# Use the method enc.get_feature_names() to resintate the original column names. \n",
    "# Call the function with the original two column names as arguments.\n",
    "# Save the results to 'df_enc.columns'\n",
    "\n",
    "df_enc.columns = enc.get_feature_names(to_encode)"
   ]
  },
  {
   "cell_type": "markdown",
   "metadata": {},
   "source": [
    "Let's inspect our new DataFrame `df_enc` once again."
   ]
  },
  {
   "cell_type": "code",
   "execution_count": 104,
   "metadata": {},
   "outputs": [
    {
     "data": {
      "text/html": [
       "<div>\n",
       "<style scoped>\n",
       "    .dataframe tbody tr th:only-of-type {\n",
       "        vertical-align: middle;\n",
       "    }\n",
       "\n",
       "    .dataframe tbody tr th {\n",
       "        vertical-align: top;\n",
       "    }\n",
       "\n",
       "    .dataframe thead th {\n",
       "        text-align: right;\n",
       "    }\n",
       "</style>\n",
       "<table border=\"1\" class=\"dataframe\">\n",
       "  <thead>\n",
       "    <tr style=\"text-align: right;\">\n",
       "      <th></th>\n",
       "      <th>neighbourhood_group_cleansed_Bronx</th>\n",
       "      <th>neighbourhood_group_cleansed_Brooklyn</th>\n",
       "      <th>neighbourhood_group_cleansed_Manhattan</th>\n",
       "      <th>neighbourhood_group_cleansed_Queens</th>\n",
       "      <th>neighbourhood_group_cleansed_Staten Island</th>\n",
       "      <th>room_type_Entire home/apt</th>\n",
       "      <th>room_type_Hotel room</th>\n",
       "      <th>room_type_Private room</th>\n",
       "      <th>room_type_Shared room</th>\n",
       "    </tr>\n",
       "  </thead>\n",
       "  <tbody>\n",
       "    <tr>\n",
       "      <th>0</th>\n",
       "      <td>0.0</td>\n",
       "      <td>0.0</td>\n",
       "      <td>1.0</td>\n",
       "      <td>0.0</td>\n",
       "      <td>0.0</td>\n",
       "      <td>1.0</td>\n",
       "      <td>0.0</td>\n",
       "      <td>0.0</td>\n",
       "      <td>0.0</td>\n",
       "    </tr>\n",
       "    <tr>\n",
       "      <th>1</th>\n",
       "      <td>0.0</td>\n",
       "      <td>1.0</td>\n",
       "      <td>0.0</td>\n",
       "      <td>0.0</td>\n",
       "      <td>0.0</td>\n",
       "      <td>1.0</td>\n",
       "      <td>0.0</td>\n",
       "      <td>0.0</td>\n",
       "      <td>0.0</td>\n",
       "    </tr>\n",
       "    <tr>\n",
       "      <th>2</th>\n",
       "      <td>0.0</td>\n",
       "      <td>1.0</td>\n",
       "      <td>0.0</td>\n",
       "      <td>0.0</td>\n",
       "      <td>0.0</td>\n",
       "      <td>1.0</td>\n",
       "      <td>0.0</td>\n",
       "      <td>0.0</td>\n",
       "      <td>0.0</td>\n",
       "    </tr>\n",
       "    <tr>\n",
       "      <th>3</th>\n",
       "      <td>0.0</td>\n",
       "      <td>0.0</td>\n",
       "      <td>1.0</td>\n",
       "      <td>0.0</td>\n",
       "      <td>0.0</td>\n",
       "      <td>0.0</td>\n",
       "      <td>0.0</td>\n",
       "      <td>1.0</td>\n",
       "      <td>0.0</td>\n",
       "    </tr>\n",
       "    <tr>\n",
       "      <th>4</th>\n",
       "      <td>0.0</td>\n",
       "      <td>0.0</td>\n",
       "      <td>1.0</td>\n",
       "      <td>0.0</td>\n",
       "      <td>0.0</td>\n",
       "      <td>0.0</td>\n",
       "      <td>0.0</td>\n",
       "      <td>1.0</td>\n",
       "      <td>0.0</td>\n",
       "    </tr>\n",
       "    <tr>\n",
       "      <th>5</th>\n",
       "      <td>0.0</td>\n",
       "      <td>1.0</td>\n",
       "      <td>0.0</td>\n",
       "      <td>0.0</td>\n",
       "      <td>0.0</td>\n",
       "      <td>0.0</td>\n",
       "      <td>0.0</td>\n",
       "      <td>1.0</td>\n",
       "      <td>0.0</td>\n",
       "    </tr>\n",
       "    <tr>\n",
       "      <th>6</th>\n",
       "      <td>0.0</td>\n",
       "      <td>1.0</td>\n",
       "      <td>0.0</td>\n",
       "      <td>0.0</td>\n",
       "      <td>0.0</td>\n",
       "      <td>1.0</td>\n",
       "      <td>0.0</td>\n",
       "      <td>0.0</td>\n",
       "      <td>0.0</td>\n",
       "    </tr>\n",
       "    <tr>\n",
       "      <th>7</th>\n",
       "      <td>0.0</td>\n",
       "      <td>0.0</td>\n",
       "      <td>1.0</td>\n",
       "      <td>0.0</td>\n",
       "      <td>0.0</td>\n",
       "      <td>0.0</td>\n",
       "      <td>0.0</td>\n",
       "      <td>1.0</td>\n",
       "      <td>0.0</td>\n",
       "    </tr>\n",
       "    <tr>\n",
       "      <th>8</th>\n",
       "      <td>0.0</td>\n",
       "      <td>1.0</td>\n",
       "      <td>0.0</td>\n",
       "      <td>0.0</td>\n",
       "      <td>0.0</td>\n",
       "      <td>0.0</td>\n",
       "      <td>0.0</td>\n",
       "      <td>1.0</td>\n",
       "      <td>0.0</td>\n",
       "    </tr>\n",
       "    <tr>\n",
       "      <th>9</th>\n",
       "      <td>0.0</td>\n",
       "      <td>1.0</td>\n",
       "      <td>0.0</td>\n",
       "      <td>0.0</td>\n",
       "      <td>0.0</td>\n",
       "      <td>1.0</td>\n",
       "      <td>0.0</td>\n",
       "      <td>0.0</td>\n",
       "      <td>0.0</td>\n",
       "    </tr>\n",
       "  </tbody>\n",
       "</table>\n",
       "</div>"
      ],
      "text/plain": [
       "   neighbourhood_group_cleansed_Bronx  neighbourhood_group_cleansed_Brooklyn  \\\n",
       "0                                 0.0                                    0.0   \n",
       "1                                 0.0                                    1.0   \n",
       "2                                 0.0                                    1.0   \n",
       "3                                 0.0                                    0.0   \n",
       "4                                 0.0                                    0.0   \n",
       "5                                 0.0                                    1.0   \n",
       "6                                 0.0                                    1.0   \n",
       "7                                 0.0                                    0.0   \n",
       "8                                 0.0                                    1.0   \n",
       "9                                 0.0                                    1.0   \n",
       "\n",
       "   neighbourhood_group_cleansed_Manhattan  \\\n",
       "0                                     1.0   \n",
       "1                                     0.0   \n",
       "2                                     0.0   \n",
       "3                                     1.0   \n",
       "4                                     1.0   \n",
       "5                                     0.0   \n",
       "6                                     0.0   \n",
       "7                                     1.0   \n",
       "8                                     0.0   \n",
       "9                                     0.0   \n",
       "\n",
       "   neighbourhood_group_cleansed_Queens  \\\n",
       "0                                  0.0   \n",
       "1                                  0.0   \n",
       "2                                  0.0   \n",
       "3                                  0.0   \n",
       "4                                  0.0   \n",
       "5                                  0.0   \n",
       "6                                  0.0   \n",
       "7                                  0.0   \n",
       "8                                  0.0   \n",
       "9                                  0.0   \n",
       "\n",
       "   neighbourhood_group_cleansed_Staten Island  room_type_Entire home/apt  \\\n",
       "0                                         0.0                        1.0   \n",
       "1                                         0.0                        1.0   \n",
       "2                                         0.0                        1.0   \n",
       "3                                         0.0                        0.0   \n",
       "4                                         0.0                        0.0   \n",
       "5                                         0.0                        0.0   \n",
       "6                                         0.0                        1.0   \n",
       "7                                         0.0                        0.0   \n",
       "8                                         0.0                        0.0   \n",
       "9                                         0.0                        1.0   \n",
       "\n",
       "   room_type_Hotel room  room_type_Private room  room_type_Shared room  \n",
       "0                   0.0                     0.0                    0.0  \n",
       "1                   0.0                     0.0                    0.0  \n",
       "2                   0.0                     0.0                    0.0  \n",
       "3                   0.0                     1.0                    0.0  \n",
       "4                   0.0                     1.0                    0.0  \n",
       "5                   0.0                     1.0                    0.0  \n",
       "6                   0.0                     0.0                    0.0  \n",
       "7                   0.0                     1.0                    0.0  \n",
       "8                   0.0                     1.0                    0.0  \n",
       "9                   0.0                     0.0                    0.0  "
      ]
     },
     "execution_count": 104,
     "metadata": {},
     "output_type": "execute_result"
    }
   ],
   "source": [
    "df_enc.head(10)"
   ]
  },
  {
   "cell_type": "markdown",
   "metadata": {},
   "source": [
    "<b>Task</b>: You can now remove the original columns that we have just transformed from DataFrame `df`.\n"
   ]
  },
  {
   "cell_type": "code",
   "execution_count": 105,
   "metadata": {},
   "outputs": [],
   "source": [
    "df = df.drop(columns=to_encode)"
   ]
  },
  {
   "cell_type": "markdown",
   "metadata": {},
   "source": [
    "<b>Task</b>: You can now join the transformed features contained in `df_enc` with DataFrame `df`"
   ]
  },
  {
   "cell_type": "code",
   "execution_count": 106,
   "metadata": {},
   "outputs": [],
   "source": [
    "df = df.join(df_enc)"
   ]
  },
  {
   "cell_type": "markdown",
   "metadata": {},
   "source": [
    "Glance at the resulting column names:"
   ]
  },
  {
   "cell_type": "code",
   "execution_count": 107,
   "metadata": {},
   "outputs": [
    {
     "data": {
      "text/plain": [
       "Index(['host_response_rate', 'host_acceptance_rate', 'host_is_superhost',\n",
       "       'host_listings_count', 'host_total_listings_count',\n",
       "       'host_has_profile_pic', 'host_identity_verified', 'accommodates',\n",
       "       'bathrooms', 'bedrooms', 'beds', 'price', 'minimum_nights',\n",
       "       'maximum_nights', 'minimum_minimum_nights', 'maximum_minimum_nights',\n",
       "       'minimum_maximum_nights', 'maximum_maximum_nights',\n",
       "       'minimum_nights_avg_ntm', 'maximum_nights_avg_ntm', 'has_availability',\n",
       "       'availability_30', 'availability_60', 'availability_90',\n",
       "       'availability_365', 'number_of_reviews', 'number_of_reviews_ltm',\n",
       "       'number_of_reviews_l30d', 'review_scores_rating',\n",
       "       'review_scores_cleanliness', 'review_scores_checkin',\n",
       "       'review_scores_communication', 'review_scores_location',\n",
       "       'review_scores_value', 'instant_bookable',\n",
       "       'calculated_host_listings_count',\n",
       "       'calculated_host_listings_count_entire_homes',\n",
       "       'calculated_host_listings_count_private_rooms',\n",
       "       'calculated_host_listings_count_shared_rooms', 'reviews_per_month',\n",
       "       'n_host_verifications', 'neighbourhood_group_cleansed_Bronx',\n",
       "       'neighbourhood_group_cleansed_Brooklyn',\n",
       "       'neighbourhood_group_cleansed_Manhattan',\n",
       "       'neighbourhood_group_cleansed_Queens',\n",
       "       'neighbourhood_group_cleansed_Staten Island',\n",
       "       'room_type_Entire home/apt', 'room_type_Hotel room',\n",
       "       'room_type_Private room', 'room_type_Shared room'],\n",
       "      dtype='object')"
      ]
     },
     "execution_count": 107,
     "metadata": {},
     "output_type": "execute_result"
    }
   ],
   "source": [
    "df.columns"
   ]
  },
  {
   "cell_type": "markdown",
   "metadata": {},
   "source": [
    "## Part 3. Create Labeled Examples from the Data Set "
   ]
  },
  {
   "cell_type": "markdown",
   "metadata": {},
   "source": [
    "<b>Task</b>: Obtain the feature columns from DataFrame `df` and assign to `X`. Obtain the label column from DataFrame `df` and assign to `y`.\n"
   ]
  },
  {
   "cell_type": "code",
   "execution_count": 108,
   "metadata": {},
   "outputs": [],
   "source": [
    "X = df.drop('host_is_superhost', axis=1)\n",
    "y = df['host_is_superhost']"
   ]
  },
  {
   "cell_type": "code",
   "execution_count": 109,
   "metadata": {},
   "outputs": [
    {
     "name": "stdout",
     "output_type": "stream",
     "text": [
      "Number of examples: 28022\n",
      "\n",
      "Number of Features:49\n",
      "['host_response_rate', 'host_acceptance_rate', 'host_listings_count', 'host_total_listings_count', 'host_has_profile_pic', 'host_identity_verified', 'accommodates', 'bathrooms', 'bedrooms', 'beds', 'price', 'minimum_nights', 'maximum_nights', 'minimum_minimum_nights', 'maximum_minimum_nights', 'minimum_maximum_nights', 'maximum_maximum_nights', 'minimum_nights_avg_ntm', 'maximum_nights_avg_ntm', 'has_availability', 'availability_30', 'availability_60', 'availability_90', 'availability_365', 'number_of_reviews', 'number_of_reviews_ltm', 'number_of_reviews_l30d', 'review_scores_rating', 'review_scores_cleanliness', 'review_scores_checkin', 'review_scores_communication', 'review_scores_location', 'review_scores_value', 'instant_bookable', 'calculated_host_listings_count', 'calculated_host_listings_count_entire_homes', 'calculated_host_listings_count_private_rooms', 'calculated_host_listings_count_shared_rooms', 'reviews_per_month', 'n_host_verifications', 'neighbourhood_group_cleansed_Bronx', 'neighbourhood_group_cleansed_Brooklyn', 'neighbourhood_group_cleansed_Manhattan', 'neighbourhood_group_cleansed_Queens', 'neighbourhood_group_cleansed_Staten Island', 'room_type_Entire home/apt', 'room_type_Hotel room', 'room_type_Private room', 'room_type_Shared room']\n"
     ]
    }
   ],
   "source": [
    "print(\"Number of examples: \" + str(X.shape[0]))\n",
    "print(\"\\nNumber of Features:\" + str(X.shape[1]))\n",
    "print(str(list(X.columns)))"
   ]
  },
  {
   "cell_type": "markdown",
   "metadata": {},
   "source": [
    "## Part 4. Create Training and Test Data Sets"
   ]
  },
  {
   "cell_type": "markdown",
   "metadata": {},
   "source": [
    "<b>Task</b>: In the code cell below create training and test sets out of the labeled examples using Scikit-learn's `train_test_split()` function. Save the results to variables `X_train, X_test, y_train, y_test`.\n",
    "\n",
    "Specify:\n",
    "1. A test set that is one third (.33) of the size of the data set.\n",
    "2. A seed value of '123'. "
   ]
  },
  {
   "cell_type": "code",
   "execution_count": 110,
   "metadata": {},
   "outputs": [],
   "source": [
    "X_train, X_test, y_train, y_test = train_test_split(X, y, test_size=0.33, random_state=123)"
   ]
  },
  {
   "cell_type": "markdown",
   "metadata": {},
   "source": [
    "<b>Task</b>: Check the dimensions of the training and test datasets."
   ]
  },
  {
   "cell_type": "code",
   "execution_count": 111,
   "metadata": {},
   "outputs": [
    {
     "data": {
      "text/plain": [
       "(18774, 49)"
      ]
     },
     "execution_count": 111,
     "metadata": {},
     "output_type": "execute_result"
    }
   ],
   "source": [
    "X_train.shape\n"
   ]
  },
  {
   "cell_type": "code",
   "execution_count": 112,
   "metadata": {},
   "outputs": [
    {
     "data": {
      "text/plain": [
       "(9248, 49)"
      ]
     },
     "execution_count": 112,
     "metadata": {},
     "output_type": "execute_result"
    }
   ],
   "source": [
    "X_test.shape"
   ]
  },
  {
   "cell_type": "markdown",
   "metadata": {},
   "source": [
    "## Part 5. Train Decision Tree Classifers and Evaluate their Performances"
   ]
  },
  {
   "cell_type": "markdown",
   "metadata": {},
   "source": [
    "The code cell below contains a function definition named `train_test_DT()`. This function should:\n",
    "1. train a Decision Tree classifier on the training data (Remember to use ```DecisionTreeClassifier()``` to create a model object.)\n",
    "2. test the resulting model on the test data\n",
    "3. compute and return the accuracy score of the resulting predicted class labels on the test data. \n",
    "\n",
    "<b>Task:</b> Complete the function to make it work."
   ]
  },
  {
   "cell_type": "code",
   "execution_count": 116,
   "metadata": {},
   "outputs": [],
   "source": [
    "def train_test_DT(X_train, X_test, y_train, y_test, depth, leaf=1, crit='entropy'):\n",
    "    \n",
    "    model = DecisionTreeClassifier(criterion = crit, max_depth = depth, min_samples_leaf = leaf)\n",
    "    \n",
    "    model.fit(X_train, y_train)\n",
    "    \n",
    "    class_label_predictions = model.predict(X_test)\n",
    "    acc_score = accuracy_score(y_test, class_label_predictions)\n",
    "          \n",
    "    return acc_score"
   ]
  },
  {
   "cell_type": "markdown",
   "metadata": {},
   "source": [
    "#### Train Two Decision Trees and Evaluate Their Performances"
   ]
  },
  {
   "cell_type": "markdown",
   "metadata": {},
   "source": [
    "<b>Task:</b> Use your function to train two different decision trees, one with a max depth of $8$ and one with a max depth of $32$. Print the max depth and corresponding accuracy score."
   ]
  },
  {
   "cell_type": "code",
   "execution_count": 117,
   "metadata": {
    "scrolled": true
   },
   "outputs": [
    {
     "name": "stdout",
     "output_type": "stream",
     "text": [
      "Max depth: 8\n",
      "0.8334775086505191\n",
      "Max depth: 32\n",
      "0.8075259515570934\n"
     ]
    }
   ],
   "source": [
    "max_depth = 8\n",
    "max_depth2 = 32\n",
    "\n",
    "print(\"Max depth: \" + str(max_depth))\n",
    "print(train_test_DT(X_train, X_test, y_train, y_test, max_depth, leaf=1, crit='entropy'))\n",
    "print(\"Max depth: \" + str(max_depth2))\n",
    "print(train_test_DT(X_train, X_test, y_train, y_test, max_depth2, leaf=1, crit='entropy'))"
   ]
  },
  {
   "cell_type": "markdown",
   "metadata": {},
   "source": [
    "#### Visualize Accuracy"
   ]
  },
  {
   "cell_type": "markdown",
   "metadata": {},
   "source": [
    "We will be creating multiple visualizations that plot a specific model's hyperparameter value (such as max depth) and the resulting accuracy score of the model.\n",
    "\n",
    "To create more clean and maintainable code, we will create one visualization function that can be called every time a plot is needed. \n",
    "\n",
    "<b>Task:</b> In the code cell below, create a function called `visualize_accuracy()` that accepts two arguments:\n",
    "\n",
    "1. a list of hyperparamter values\n",
    "2. a list of accuracy scores\n",
    "\n",
    "Both lists must be of the same size.\n",
    "\n",
    "Inside the function, implement a `seaborn` lineplot in which hyperparameter values will be on the x-axis and accuracy scores will be on the y-axis. <i>Hint</i>: You implemented a lineplot in this week's assignment."
   ]
  },
  {
   "cell_type": "code",
   "execution_count": 118,
   "metadata": {},
   "outputs": [],
   "source": [
    "def visualize_accuracy(hyper_values, acc_scores):\n",
    "    sns.lineplot(x=hyper_values, y=acc_scores)"
   ]
  },
  {
   "cell_type": "markdown",
   "metadata": {},
   "source": [
    "<b>Task</b>: Test your visualization function below by calling the function to plot the max depth values and accuracy scores of the two decision trees that you just trained."
   ]
  },
  {
   "cell_type": "code",
   "execution_count": 119,
   "metadata": {},
   "outputs": [
    {
     "data": {
      "image/png": "[encoded data removed]",
      "text/plain": [
       "<Figure size 432x288 with 1 Axes>"
      ]
     },
     "metadata": {
      "needs_background": "light"
     },
     "output_type": "display_data"
    }
   ],
   "source": [
    "visualize_accuracy([8, 32], [0.8333693771626297, 0.8025519031141869])"
   ]
  },
  {
   "cell_type": "markdown",
   "metadata": {},
   "source": [
    "<b>Analysis</b>: Does this graph provide a sufficient visualization for determining a value of max depth that produces a high performing model?"
   ]
  },
  {
   "cell_type": "markdown",
   "metadata": {},
   "source": [
    "I think the graph does not show enough information as it would be better if we could test out more values not just for max depth but also for the other two hyperparameters."
   ]
  },
  {
   "cell_type": "markdown",
   "metadata": {},
   "source": [
    "#### Train Multiple Decision Trees Using Different Hyperparameter Values and Evaluate Their Performances"
   ]
  },
  {
   "cell_type": "markdown",
   "metadata": {},
   "source": [
    "<b>Task:</b> Let's train on more values for max depth.\n",
    "\n",
    "1. Train six different decision trees, using the following values for max depth: $1, 2, 4, 8, 16, 32$\n",
    "2. Use your visualization function to plot the values of max depth and each model's resulting accuracy score."
   ]
  },
  {
   "cell_type": "code",
   "execution_count": 120,
   "metadata": {},
   "outputs": [
    {
     "name": "stdout",
     "output_type": "stream",
     "text": [
      "Max Depth=1, accuracy score: 0.7563797577854672\n",
      "Max Depth=2, accuracy score: 0.7563797577854672\n",
      "Max Depth=4, accuracy score: 0.810878027681661\n",
      "Max Depth=8, accuracy score: 0.8331531141868512\n",
      "Max Depth=16, accuracy score: 0.8130406574394463\n",
      "Max Depth=32, accuracy score: 0.8051470588235294\n"
     ]
    },
    {
     "data": {
      "image/png": "[encoded data removed]",
      "text/plain": [
       "<Figure size 432x288 with 1 Axes>"
      ]
     },
     "metadata": {
      "needs_background": "light"
     },
     "output_type": "display_data"
    }
   ],
   "source": [
    "depths = [1, 2, 4, 8, 16, 32]\n",
    "acc =  []\n",
    "\n",
    "for d in depths:\n",
    "    score = train_test_DT(X_train, X_test, y_train, y_test, depth = d)\n",
    "    print('Max Depth=' + str(d) + ', accuracy score: ' + str(score))\n",
    "    acc.append(score)\n",
    "    \n",
    "visualize_accuracy(depths, acc)"
   ]
  },
  {
   "cell_type": "markdown",
   "metadata": {},
   "source": [
    "<b>Analysis</b>: Analyze this graph. Pay attention to the accuracy scores. Answer the following questions in the cell below.<br>\n",
    "\n",
    "How would you go about choosing the best model configuration based on this plot? <br>\n",
    "What other hyperparameters of interest would you want to tune to make sure you are finding the best performing model?"
   ]
  },
  {
   "cell_type": "markdown",
   "metadata": {},
   "source": [
    "For the best model configuration I would likely choose 8 as my max_depth because after it there's a decline that might mean overfitting the model.\n",
    "\n",
    "I would tune min_sample_leaf and min_sample_split to make sure I am finding the best performing model."
   ]
  },
  {
   "cell_type": "markdown",
   "metadata": {},
   "source": [
    "## Part 6. Train KNN Classifiers and Evaluate their Performances\n"
   ]
  },
  {
   "cell_type": "markdown",
   "metadata": {},
   "source": [
    "The code cell below contains function definition named `train_test_knn()`. This function should:\n",
    "1. train a KNN classifier on the training data (Remember to use ```KNeighborsClassifier()``` to create a model object).\n",
    "2. test the resulting model on the test data\n",
    "3. compute and return the accuracy score of the resulting predicted class labels on the test data. \n",
    "\n",
    "<i>Note</i>: You will train KNN classifiers using the same training and test data that you used to train decision trees.\n",
    "\n",
    "<b>Task:</b> Complete the function to make it work."
   ]
  },
  {
   "cell_type": "code",
   "execution_count": 122,
   "metadata": {},
   "outputs": [],
   "source": [
    "def train_test_knn(X_train, X_test, y_train, y_test, k):\n",
    "    model = KNeighborsClassifier(k)\n",
    "    \n",
    "    model.fit(X_train, y_train)\n",
    "    \n",
    "    class_label_predictions = model.predict(X_test)\n",
    "    acc_score = accuracy_score(y_test, class_label_predictions)\n",
    "          \n",
    "    return acc_score"
   ]
  },
  {
   "cell_type": "markdown",
   "metadata": {},
   "source": [
    "#### Train Three KNN Classifiers and Evaluate Their Performances\n",
    "\n",
    "<b>Task:</b> Use your function to train three different KNN classifiers, each with a different value for hyperparameter $k$: $3, 30$, and $300$. <i>Note</i>: This make take a second.\n"
   ]
  },
  {
   "cell_type": "code",
   "execution_count": 123,
   "metadata": {},
   "outputs": [
    {
     "name": "stdout",
     "output_type": "stream",
     "text": [
      "k: 3\n",
      "0.759515570934256\n",
      "k: 30\n",
      "0.7755190311418685\n",
      "k: 300\n",
      "0.7696799307958477\n"
     ]
    }
   ],
   "source": [
    "k1 = 3\n",
    "k2 = 30\n",
    "k3 = 300\n",
    "\n",
    "print(\"k: \" + str(k1))\n",
    "print(train_test_knn(X_train, X_test, y_train, y_test, k=k1))\n",
    "\n",
    "print(\"k: \" + str(k2))\n",
    "print(train_test_knn(X_train, X_test, y_train, y_test, k=k2))\n",
    "\n",
    "print(\"k: \" + str(k3))\n",
    "print(train_test_knn(X_train, X_test, y_train, y_test, k=k3))"
   ]
  },
  {
   "cell_type": "markdown",
   "metadata": {},
   "source": [
    "<b>Task:</b> Now call the function `visualize_accuracy()` with the appropriate arguments to plot the results."
   ]
  },
  {
   "cell_type": "code",
   "execution_count": 124,
   "metadata": {},
   "outputs": [
    {
     "data": {
      "image/png": "[encoded data removed]",
      "text/plain": [
       "<Figure size 432x288 with 1 Axes>"
      ]
     },
     "metadata": {
      "needs_background": "light"
     },
     "output_type": "display_data"
    }
   ],
   "source": [
    "k_s = [k1, k2, k3]\n",
    "acc = []\n",
    "\n",
    "for k_ in k_s:\n",
    "    score = train_test_knn(X_train, X_test, y_train, y_test, k=k_)\n",
    "    acc.append(score)\n",
    "    \n",
    "visualize_accuracy(k_s, acc)"
   ]
  },
  {
   "cell_type": "markdown",
   "metadata": {},
   "source": [
    "#### Train Multiple KNN Classifiers Using Different Hyperparameter Values and Evaluate Their Performances"
   ]
  },
  {
   "cell_type": "markdown",
   "metadata": {},
   "source": [
    "<b>Task:</b> Let's train on more values for $k$.\n",
    "\n",
    "1. Array `k_range` contains multiple values for hyperparameter $k$. Train one KNN model per value of $k$\n",
    "2. Use your visualization function to plot the values of $k$ and each model's resulting accuracy score.\n",
    "\n",
    "<i>Note</i>: This make take a second."
   ]
  },
  {
   "cell_type": "code",
   "execution_count": 125,
   "metadata": {},
   "outputs": [
    {
     "data": {
      "text/plain": [
       "array([ 1,  4,  7, 10, 13, 16, 19, 22, 25, 28, 31, 34, 37])"
      ]
     },
     "execution_count": 125,
     "metadata": {},
     "output_type": "execute_result"
    }
   ],
   "source": [
    "k_range = np.arange(1, 40, step = 3) \n",
    "k_range"
   ]
  },
  {
   "cell_type": "code",
   "execution_count": 126,
   "metadata": {},
   "outputs": [
    {
     "name": "stdout",
     "output_type": "stream",
     "text": [
      "K=1, accuracy score: 0.7454584775086506\n",
      "K=4, accuracy score: 0.77530276816609\n",
      "K=7, accuracy score: 0.7654628027681661\n",
      "K=10, accuracy score: 0.7743295847750865\n",
      "K=13, accuracy score: 0.7730320069204152\n",
      "K=16, accuracy score: 0.7763840830449827\n",
      "K=19, accuracy score: 0.7754108996539792\n",
      "K=22, accuracy score: 0.776924740484429\n",
      "K=25, accuracy score: 0.77530276816609\n",
      "K=28, accuracy score: 0.7741133217993079\n",
      "K=31, accuracy score: 0.7756271626297578\n",
      "K=34, accuracy score: 0.7763840830449827\n",
      "K=37, accuracy score: 0.7749783737024222\n"
     ]
    },
    {
     "data": {
      "image/png": "[encoded data removed]",
      "text/plain": [
       "<Figure size 432x288 with 1 Axes>"
      ]
     },
     "metadata": {
      "needs_background": "light"
     },
     "output_type": "display_data"
    }
   ],
   "source": [
    "acc = []\n",
    "\n",
    "for k_ in k_range:\n",
    "    score = train_test_knn(X_train, X_test, y_train, y_test, k=k_)\n",
    "    print('K=' + str(k_) + ', accuracy score: ' + str(score))\n",
    "    acc.append(score)\n",
    "    \n",
    "visualize_accuracy(k_range, acc)"
   ]
  },
  {
   "cell_type": "markdown",
   "metadata": {},
   "source": [
    "## Part 7. Analysis\n",
    "\n",
    "1. Compare the performance of the KNN model relative to the Decision Tree model, with various hyperparameter values. Which model performed the best (yielded the highest accuracy score)? Record your findings in the cell below.\n",
    "\n",
    "2. We tuned hyperparameter $k$ for KNNs and hyperparamter max depth for DTs. Consider other hyperparameters that can be tuned in an attempt to find the best performing model. Try a different combination of hyperparamters for both KNNs and DTs, retrain the models, obtain the accuracy scores and record your findings below. \n",
    "\n",
    "    <i>Note:</i> You can consult Scikit-learn documentation for both the [`KNeighborsClassifier`](https://scikit-learn.org/stable/modules/generated/sklearn.neighbors.KNeighborsClassifier.html) class and the [`DecisionTreeClassifier`](https://scikit-learn.org/stable/modules/generated/sklearn.tree.DecisionTreeClassifier.html) class to see how specific hyperparameters are passed as parameters to the model object."
   ]
  },
  {
   "cell_type": "markdown",
   "metadata": {},
   "source": [
    "1. The Decision Tree model performed better for me as I got a higher accuracy score with it as compared to KNN. For Decision tree, I got 0.83 as my accuracy score, while I got 0.77 as an accuracy score for KNN.\n",
    "\n",
    "2. I tried tuning the min_sample_leaf hyperparameter of Decision Tree, although I could not get a better accuracy score with it I noticed that if the min_sample_leaf is high we can take high number for max_depth as well, and we will still have a pretty good accuracy. For example, I got an accuracy score of 0.8327 with max_depth=520 and min_sample_leaf=115. But still the best accurate model was with Decision tree with max_depth=8 and min_sample_leaf=1 with an accuracy score of 0.833369."
   ]
  }
 ],
 "metadata": {
  "kernelspec": {
   "display_name": "Python 3",
   "language": "python",
   "name": "python3"
  },
  "language_info": {
   "codemirror_mode": {
    "name": "ipython",
    "version": 3
   },
   "file_extension": ".py",
   "mimetype": "text/x-python",
   "name": "python",
   "nbconvert_exporter": "python",
   "pygments_lexer": "ipython3",
   "version": "3.6.9"
  },
  "toc": {
   "base_numbering": 1,
   "nav_menu": {},
   "number_sections": false,
   "sideBar": true,
   "skip_h1_title": false,
   "title_cell": "Table of Contents",
   "title_sidebar": "Contents",
   "toc_cell": false,
   "toc_position": {},
   "toc_section_display": true,
   "toc_window_display": false
  },
  "varInspector": {
   "cols": {
    "lenName": 16,
    "lenType": 16,
    "lenVar": 40
   },
   "kernels_config": {
    "python": {
     "delete_cmd_postfix": "",
     "delete_cmd_prefix": "del ",
     "library": "var_list.py",
     "varRefreshCmd": "print(var_dic_list())"
    },
    "r": {
     "delete_cmd_postfix": ") ",
     "delete_cmd_prefix": "rm(",
     "library": "var_list.r",
     "varRefreshCmd": "cat(var_dic_list()) "
    }
   },
   "types_to_exclude": [
    "module",
    "function",
    "builtin_function_or_method",
    "instance",
    "_Feature"
   ],
   "window_display": false
  }
 },
 "nbformat": 4,
 "nbformat_minor": 2
}
