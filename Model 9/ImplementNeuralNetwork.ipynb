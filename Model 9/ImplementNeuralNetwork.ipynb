{
 "cells": [
  {
   "cell_type": "markdown",
   "metadata": {},
   "source": [
    "# Assignment 7: Implement a Neural Network Using Keras"
   ]
  },
  {
   "cell_type": "code",
   "execution_count": 22,
   "metadata": {},
   "outputs": [],
   "source": [
    "import pandas as pd\n",
    "import numpy as np\n",
    "import os\n",
    "os.environ[\"TF_CPP_MIN_LOG_LEVEL\"] = \"2\" # suppress info and warning messages\n",
    "import matplotlib.pyplot as plt\n",
    "import seaborn as sns\n",
    "from sklearn.model_selection import train_test_split\n",
    "from sklearn.metrics import confusion_matrix\n",
    "import tensorflow.keras as keras\n",
    "import time"
   ]
  },
  {
   "cell_type": "markdown",
   "metadata": {},
   "source": [
    "In this assignment, you will implement a feedforward neural network using Keras for a binary classification problem. You will complete the following tasks:\n",
    "    \n",
    "1. Build your DataFrame and define your ML problem:\n",
    "    * Load the Airbnb \"listings\" data set\n",
    "    * Define the label - what are you predicting?\n",
    "    * Identify the features\n",
    "2. Prepare your data so that it is ready for modeling.\n",
    "3. Create labeled examples from the data set.\n",
    "4. Split the data into training and test data sets.\n",
    "5. Construct a neural network.\n",
    "6. Train the neural network.\n",
    "7. Evaluate the neural network model's performance on the training, validation and test data.\n",
    "8. Experiment with ways to improve the model's performance.\n",
    "\n",
    "For this assignment, use the demo <i>Implementing a Neural Network in Keras</i> that is contained in this unit as a reference.\n",
    "\n",
    "**<font color='red'>Note: some of the code cells in this notebook may take a while to run</font>**"
   ]
  },
  {
   "cell_type": "markdown",
   "metadata": {},
   "source": [
    "## Part 1. Build Your DataFrame and Define Your ML Problem\n",
    "\n",
    "#### Load a Data Set and Save it as a Pandas DataFrame\n",
    "\n",
    "We will work with the data set ``airbnbData_train``. \n",
    "\n",
    "<b>Task</b>: In the code cell below, use the same method you have been using to load the data using `pd.read_csv()` and save it to DataFrame `df`.\n",
    "\n",
    "You will be working with the file named \"airbnbData_train.csv\" that is located in a folder named \"data_NN\"."
   ]
  },
  {
   "cell_type": "code",
   "execution_count": 23,
   "metadata": {},
   "outputs": [],
   "source": [
    "df = pd.read_csv('./data_NN/airbnbData_train.csv')"
   ]
  },
  {
   "cell_type": "markdown",
   "metadata": {},
   "source": [
    "#### Define the Label\n",
    "\n",
    "Your goal is to train a machine learning model that predicts whether an Airbnb host is a 'super host'. This is an example of supervised learning and is a binary classification problem. In our dataset, our label will be the `host_is_superhost` column and the label will either contain the value `True` or `False`.\n",
    "\n",
    "#### Identify Features\n",
    "\n",
    "Our features will be all of the remaining columns in the dataset."
   ]
  },
  {
   "cell_type": "markdown",
   "metadata": {},
   "source": [
    "## Part 2. Prepare Your Data\n",
    "\n",
    "Many data preparation techniques have already been performed and the data is almost ready for modeling; the data set has one-hot encoded categorical variables, scaled numerical values, and imputed missing values. However, the data set has a few features that have boolean values. When working with Keras, features should have floating point values.\n",
    "\n",
    "Let's convert these features from booleans to floats.\n",
    "\n",
    "<b>Task:</b> Using the Pandas `astype()` method, convert any boolean columns in DataFrame `df` to floating point columns. Use the online [documentation](https://pandas.pydata.org/docs/reference/api/pandas.DataFrame.astype.html) as a reference.  \n",
    "\n",
    "Note that there are a few different ways that you can accomplish this task. You can convert one boolean column at a time, or you can use the Pandas `select_dtypes()` method to find and return all boolean columns in DataFrame `df` and then convert the columns as a group. Use the online [documentation]( https://pandas.pydata.org/docs/reference/api/pandas.DataFrame.select_dtypes.html) as a reference. \n"
   ]
  },
  {
   "cell_type": "code",
   "execution_count": 24,
   "metadata": {},
   "outputs": [],
   "source": [
    "bool_cols = df.select_dtypes(include='bool').columns\n",
    "df[bool_cols] = df[bool_cols].astype('float64')"
   ]
  },
  {
   "cell_type": "markdown",
   "metadata": {},
   "source": [
    "Let's inspect the columns after the conversion. "
   ]
  },
  {
   "cell_type": "code",
   "execution_count": 25,
   "metadata": {},
   "outputs": [
    {
     "data": {
      "text/html": [
       "<div>\n",
       "<style scoped>\n",
       "    .dataframe tbody tr th:only-of-type {\n",
       "        vertical-align: middle;\n",
       "    }\n",
       "\n",
       "    .dataframe tbody tr th {\n",
       "        vertical-align: top;\n",
       "    }\n",
       "\n",
       "    .dataframe thead th {\n",
       "        text-align: right;\n",
       "    }\n",
       "</style>\n",
       "<table border=\"1\" class=\"dataframe\">\n",
       "  <thead>\n",
       "    <tr style=\"text-align: right;\">\n",
       "      <th></th>\n",
       "      <th>host_is_superhost</th>\n",
       "      <th>host_has_profile_pic</th>\n",
       "      <th>host_identity_verified</th>\n",
       "      <th>has_availability</th>\n",
       "      <th>instant_bookable</th>\n",
       "      <th>host_response_rate</th>\n",
       "      <th>host_acceptance_rate</th>\n",
       "      <th>host_listings_count</th>\n",
       "      <th>host_total_listings_count</th>\n",
       "      <th>accommodates</th>\n",
       "      <th>...</th>\n",
       "      <th>n_host_verifications</th>\n",
       "      <th>neighbourhood_group_cleansed_Bronx</th>\n",
       "      <th>neighbourhood_group_cleansed_Brooklyn</th>\n",
       "      <th>neighbourhood_group_cleansed_Manhattan</th>\n",
       "      <th>neighbourhood_group_cleansed_Queens</th>\n",
       "      <th>neighbourhood_group_cleansed_Staten Island</th>\n",
       "      <th>room_type_Entire home/apt</th>\n",
       "      <th>room_type_Hotel room</th>\n",
       "      <th>room_type_Private room</th>\n",
       "      <th>room_type_Shared room</th>\n",
       "    </tr>\n",
       "  </thead>\n",
       "  <tbody>\n",
       "    <tr>\n",
       "      <th>0</th>\n",
       "      <td>0.0</td>\n",
       "      <td>1.0</td>\n",
       "      <td>1.0</td>\n",
       "      <td>1.0</td>\n",
       "      <td>0.0</td>\n",
       "      <td>-0.578829</td>\n",
       "      <td>-2.845589</td>\n",
       "      <td>-0.054298</td>\n",
       "      <td>-0.054298</td>\n",
       "      <td>-1.007673</td>\n",
       "      <td>...</td>\n",
       "      <td>1.888373</td>\n",
       "      <td>0.0</td>\n",
       "      <td>0.0</td>\n",
       "      <td>1.0</td>\n",
       "      <td>0.0</td>\n",
       "      <td>0.0</td>\n",
       "      <td>1.0</td>\n",
       "      <td>0.0</td>\n",
       "      <td>0.0</td>\n",
       "      <td>0.0</td>\n",
       "    </tr>\n",
       "    <tr>\n",
       "      <th>1</th>\n",
       "      <td>0.0</td>\n",
       "      <td>1.0</td>\n",
       "      <td>1.0</td>\n",
       "      <td>1.0</td>\n",
       "      <td>0.0</td>\n",
       "      <td>-4.685756</td>\n",
       "      <td>-0.430024</td>\n",
       "      <td>-0.112284</td>\n",
       "      <td>-0.112284</td>\n",
       "      <td>0.067470</td>\n",
       "      <td>...</td>\n",
       "      <td>0.409419</td>\n",
       "      <td>0.0</td>\n",
       "      <td>1.0</td>\n",
       "      <td>0.0</td>\n",
       "      <td>0.0</td>\n",
       "      <td>0.0</td>\n",
       "      <td>1.0</td>\n",
       "      <td>0.0</td>\n",
       "      <td>0.0</td>\n",
       "      <td>0.0</td>\n",
       "    </tr>\n",
       "    <tr>\n",
       "      <th>2</th>\n",
       "      <td>0.0</td>\n",
       "      <td>1.0</td>\n",
       "      <td>1.0</td>\n",
       "      <td>1.0</td>\n",
       "      <td>0.0</td>\n",
       "      <td>0.578052</td>\n",
       "      <td>-2.473964</td>\n",
       "      <td>-0.112284</td>\n",
       "      <td>-0.112284</td>\n",
       "      <td>0.605041</td>\n",
       "      <td>...</td>\n",
       "      <td>-1.069535</td>\n",
       "      <td>0.0</td>\n",
       "      <td>1.0</td>\n",
       "      <td>0.0</td>\n",
       "      <td>0.0</td>\n",
       "      <td>0.0</td>\n",
       "      <td>1.0</td>\n",
       "      <td>0.0</td>\n",
       "      <td>0.0</td>\n",
       "      <td>0.0</td>\n",
       "    </tr>\n",
       "    <tr>\n",
       "      <th>3</th>\n",
       "      <td>0.0</td>\n",
       "      <td>1.0</td>\n",
       "      <td>0.0</td>\n",
       "      <td>1.0</td>\n",
       "      <td>0.0</td>\n",
       "      <td>0.578052</td>\n",
       "      <td>1.010024</td>\n",
       "      <td>-0.112284</td>\n",
       "      <td>-0.112284</td>\n",
       "      <td>-0.470102</td>\n",
       "      <td>...</td>\n",
       "      <td>-0.576550</td>\n",
       "      <td>0.0</td>\n",
       "      <td>0.0</td>\n",
       "      <td>1.0</td>\n",
       "      <td>0.0</td>\n",
       "      <td>0.0</td>\n",
       "      <td>0.0</td>\n",
       "      <td>0.0</td>\n",
       "      <td>1.0</td>\n",
       "      <td>0.0</td>\n",
       "    </tr>\n",
       "    <tr>\n",
       "      <th>4</th>\n",
       "      <td>0.0</td>\n",
       "      <td>1.0</td>\n",
       "      <td>1.0</td>\n",
       "      <td>1.0</td>\n",
       "      <td>0.0</td>\n",
       "      <td>-0.054002</td>\n",
       "      <td>-0.066308</td>\n",
       "      <td>-0.112284</td>\n",
       "      <td>-0.112284</td>\n",
       "      <td>-1.007673</td>\n",
       "      <td>...</td>\n",
       "      <td>0.902404</td>\n",
       "      <td>0.0</td>\n",
       "      <td>0.0</td>\n",
       "      <td>1.0</td>\n",
       "      <td>0.0</td>\n",
       "      <td>0.0</td>\n",
       "      <td>0.0</td>\n",
       "      <td>0.0</td>\n",
       "      <td>1.0</td>\n",
       "      <td>0.0</td>\n",
       "    </tr>\n",
       "  </tbody>\n",
       "</table>\n",
       "<p>5 rows × 50 columns</p>\n",
       "</div>"
      ],
      "text/plain": [
       "   host_is_superhost  host_has_profile_pic  host_identity_verified  \\\n",
       "0                0.0                   1.0                     1.0   \n",
       "1                0.0                   1.0                     1.0   \n",
       "2                0.0                   1.0                     1.0   \n",
       "3                0.0                   1.0                     0.0   \n",
       "4                0.0                   1.0                     1.0   \n",
       "\n",
       "   has_availability  instant_bookable  host_response_rate  \\\n",
       "0               1.0               0.0           -0.578829   \n",
       "1               1.0               0.0           -4.685756   \n",
       "2               1.0               0.0            0.578052   \n",
       "3               1.0               0.0            0.578052   \n",
       "4               1.0               0.0           -0.054002   \n",
       "\n",
       "   host_acceptance_rate  host_listings_count  host_total_listings_count  \\\n",
       "0             -2.845589            -0.054298                  -0.054298   \n",
       "1             -0.430024            -0.112284                  -0.112284   \n",
       "2             -2.473964            -0.112284                  -0.112284   \n",
       "3              1.010024            -0.112284                  -0.112284   \n",
       "4             -0.066308            -0.112284                  -0.112284   \n",
       "\n",
       "   accommodates  ...  n_host_verifications  \\\n",
       "0     -1.007673  ...              1.888373   \n",
       "1      0.067470  ...              0.409419   \n",
       "2      0.605041  ...             -1.069535   \n",
       "3     -0.470102  ...             -0.576550   \n",
       "4     -1.007673  ...              0.902404   \n",
       "\n",
       "   neighbourhood_group_cleansed_Bronx  neighbourhood_group_cleansed_Brooklyn  \\\n",
       "0                                 0.0                                    0.0   \n",
       "1                                 0.0                                    1.0   \n",
       "2                                 0.0                                    1.0   \n",
       "3                                 0.0                                    0.0   \n",
       "4                                 0.0                                    0.0   \n",
       "\n",
       "   neighbourhood_group_cleansed_Manhattan  \\\n",
       "0                                     1.0   \n",
       "1                                     0.0   \n",
       "2                                     0.0   \n",
       "3                                     1.0   \n",
       "4                                     1.0   \n",
       "\n",
       "   neighbourhood_group_cleansed_Queens  \\\n",
       "0                                  0.0   \n",
       "1                                  0.0   \n",
       "2                                  0.0   \n",
       "3                                  0.0   \n",
       "4                                  0.0   \n",
       "\n",
       "   neighbourhood_group_cleansed_Staten Island  room_type_Entire home/apt  \\\n",
       "0                                         0.0                        1.0   \n",
       "1                                         0.0                        1.0   \n",
       "2                                         0.0                        1.0   \n",
       "3                                         0.0                        0.0   \n",
       "4                                         0.0                        0.0   \n",
       "\n",
       "   room_type_Hotel room  room_type_Private room  room_type_Shared room  \n",
       "0                   0.0                     0.0                    0.0  \n",
       "1                   0.0                     0.0                    0.0  \n",
       "2                   0.0                     0.0                    0.0  \n",
       "3                   0.0                     1.0                    0.0  \n",
       "4                   0.0                     1.0                    0.0  \n",
       "\n",
       "[5 rows x 50 columns]"
      ]
     },
     "execution_count": 25,
     "metadata": {},
     "output_type": "execute_result"
    }
   ],
   "source": [
    "df.head()"
   ]
  },
  {
   "cell_type": "markdown",
   "metadata": {},
   "source": [
    "## Part 3. Create Labeled Examples from the Data Set \n",
    "\n",
    "<b>Task</b>: In the code cell below, create labeled examples from DataFrame `df`."
   ]
  },
  {
   "cell_type": "code",
   "execution_count": 26,
   "metadata": {},
   "outputs": [],
   "source": [
    "y = df['host_is_superhost']\n",
    "X = df.drop('host_is_superhost', axis=1)"
   ]
  },
  {
   "cell_type": "markdown",
   "metadata": {},
   "source": [
    "## Part 4. Create Training and Test Data Sets\n",
    "\n",
    "<b>Task</b>: In the code cell below, create training and test sets out of the labeled examples. Create a test set that is 25 percent of the size of the data set. Save the results to variables `X_train, X_test, y_train, y_test`.\n"
   ]
  },
  {
   "cell_type": "code",
   "execution_count": 27,
   "metadata": {},
   "outputs": [],
   "source": [
    "X_train, X_test, y_train, y_test = train_test_split(X, y, test_size=0.25, random_state=1234)"
   ]
  },
  {
   "cell_type": "code",
   "execution_count": 28,
   "metadata": {},
   "outputs": [
    {
     "data": {
      "text/plain": [
       "(21016, 49)"
      ]
     },
     "execution_count": 28,
     "metadata": {},
     "output_type": "execute_result"
    }
   ],
   "source": [
    "X_train.shape"
   ]
  },
  {
   "cell_type": "markdown",
   "metadata": {},
   "source": [
    "## Part 5. Construct the Neural Network\n"
   ]
  },
  {
   "cell_type": "markdown",
   "metadata": {},
   "source": [
    "### Step 1.  Define Model Structure\n",
    "\n",
    "Next we will create our neural network structure. We will create an input layer, three hidden layers and an output layer:\n",
    "\n",
    "* <b>Input layer</b>: The input layer will have the input shape corresponding to the number of features. \n",
    "* <b>Hidden layers</b>: We will create three hidden layers of widths (number of nodes) 64, 32, and 16. They will utilize the ReLU activation function. \n",
    "* <b>Output layer</b>: The output layer will have a width of 1. The output layer will utilize the sigmoid activation function. Since we are working with binary classification, we will be using the sigmoid activation function to map the output to a probability between 0.0 and 1.0. We can later set a threshold and assume that the prediction is class 1 if the probability is larger than or equal to our threshold, or class 0 if it is lower than our threshold.\n",
    "\n",
    "To construct the neural network model using Keras, we will do the following:\n",
    "* We will use the Keras `Sequential` class to group a stack of layers. This will be our neural network model object. For more information, consult the Keras online [documentation](https://keras.io/api/models/sequential/#sequential-class).\n",
    "* We will use the `InputLayer` class to create the input layer. For more information, consult  the Keras online [documentation](https://www.tensorflow.org/api_docs/python/tf/keras/layers/InputLayer).\n",
    "* We will use the `Dense` class to create each hidden layer and the output layer. For more information, consult the Keras online [documentation](https://keras.io/api/layers/core_layers/dense/).\n",
    "* We will add each layer to the neural network model object.\n",
    "\n",
    "\n",
    "<b>Task:</b> Follow these steps to complete the code in the cell below:\n",
    "\n",
    "1. Create the neural network model object. \n",
    "    * Use ``keras.Sequential() `` to create a model object, and assign the result to the variable ```nn_model```.\n",
    "    \n",
    "    \n",
    "2. Create the input layer: \n",
    "    * Call `keras.layers.InputLayer()` with the argument `input_shape` to specify the dimensions of the input. In this case, the dimensions will be the number of features (coumns) in `X_train`. Assign the number of features to the argument `input_shape`.\n",
    "    * Assign the results to the variable `input_layer`.\n",
    "    * Use `nn_model.add(input_layer)` to add the layer `input_layer` to the neural network model object.\n",
    "\n",
    "\n",
    "3. Create the first hidden layer:\n",
    "    * Call `keras.layers.Dense()` with the arguments `units=64` and `activation='relu'`. \n",
    "    * Assign the results to the variable `hidden_layer_1`.\n",
    "    * Use `nn_model.add(hidden_layer_1)` to add the layer `hidden_layer_1` to the neural network model object.\n",
    "\n",
    "\n",
    "4. Create the second hidden layer using the same approach that you used to create the first hidden layer, specifying 32 units and the `relu` activation function. \n",
    "    * Assign the results to the variable `hidden_layer_2`.\n",
    "    * Add the layer to the neural network model object.\n",
    "    \n",
    "    \n",
    "5. Create the third hidden layer using the same approach that you used to create the first two hidden layers, specifying 16 units and the `relu` activation function. \n",
    "    * Assign the results to the variable `hidden_layer_3`.\n",
    "    * Add the layer to the neural network model object.\n",
    "\n",
    "\n",
    "6. Create the output layer using the same approach that you used to create the hidden layers, specifying 1 unit and the `sigmoid` activation function. \n",
    "   * Assign the results to the variable `output_layer`.\n",
    "   * Add the layer to the neural network model object.\n",
    "   "
   ]
  },
  {
   "cell_type": "code",
   "execution_count": 59,
   "metadata": {},
   "outputs": [
    {
     "name": "stdout",
     "output_type": "stream",
     "text": [
      "Model: \"sequential_4\"\n",
      "_________________________________________________________________\n",
      "Layer (type)                 Output Shape              Param #   \n",
      "=================================================================\n",
      "dense_5 (Dense)              (None, 128)               6400      \n",
      "_________________________________________________________________\n",
      "dense_6 (Dense)              (None, 64)                8256      \n",
      "_________________________________________________________________\n",
      "dense_7 (Dense)              (None, 32)                2080      \n",
      "_________________________________________________________________\n",
      "dense_8 (Dense)              (None, 1)                 33        \n",
      "=================================================================\n",
      "Total params: 16,769\n",
      "Trainable params: 16,769\n",
      "Non-trainable params: 0\n",
      "_________________________________________________________________\n"
     ]
    }
   ],
   "source": [
    "# 1. Create model object:\n",
    "nn_model = keras.Sequential()\n",
    "\n",
    "\n",
    "# 2. Create the input layer and add it to the model object: \n",
    "# Create input layer:\n",
    "input_layer = keras.layers.InputLayer(input_shape=X_train.shape[1],)\n",
    "# Add input_layer to the model object:\n",
    "nn_model.add(input_layer)\n",
    "\n",
    "\n",
    "# 3. Create the first hidden layer and add it to the model object:\n",
    "# Create hidden layer:\n",
    "hidden_layer_1 = keras.layers.Dense(units=128, activation='relu')\n",
    "# Add hidden_layer_1 to the model object:\n",
    "nn_model.add(hidden_layer_1)\n",
    "\n",
    "\n",
    "# 4. Create the second hidden layer and add it to the model object:\n",
    "# Create hidden layer:\n",
    "hidden_layer_2 = keras.layers.Dense(units=64, activation='relu')\n",
    "# Add hidden_layer_2 to the model object:\n",
    "nn_model.add(hidden_layer_2)\n",
    "\n",
    "\n",
    "# 5. Create the third hidden layer and add it to the model object:\n",
    "# Create hidden layer:\n",
    "hidden_layer_3 = keras.layers.Dense(units=32, activation='relu')\n",
    "# Add hidden_layer_3 to the model object:\n",
    "nn_model.add(hidden_layer_3)\n",
    "\n",
    "\n",
    "# 6. Create the output layer and add it to the model object:\n",
    "# Create output layer:\n",
    "output_layer = keras.layers.Dense(units=1, activation='sigmoid')\n",
    "# Add output_layer to the model object:\n",
    "nn_model.add(output_layer)\n",
    "\n",
    "\n",
    "# Print summary of neural network model structure\n",
    "nn_model.summary()"
   ]
  },
  {
   "cell_type": "markdown",
   "metadata": {},
   "source": [
    "### Step 2. Define the Optimization Function\n",
    "\n",
    "<b>Task:</b> In the code cell below, create a stochastic gradient descent optimizer using  `keras.optimizers.SGD()`. Specify a learning rate of 0.1 using the `learning_rate` parameter. Assign the result to the variable`sgd_optimizer`."
   ]
  },
  {
   "cell_type": "code",
   "execution_count": 60,
   "metadata": {},
   "outputs": [],
   "source": [
    "sgd_optimizer = keras.optimizers.SGD(learning_rate=0.01)"
   ]
  },
  {
   "cell_type": "markdown",
   "metadata": {},
   "source": [
    "### Step 3. Define the Loss Function\n",
    "\n",
    "<b>Task:</b> In the code cell below, create a binary cross entropy loss function using `keras.losses.BinaryCrossentropy()`. Use  the parameter `from_logits=False`. Assign the result to the variable  `loss_fn`."
   ]
  },
  {
   "cell_type": "code",
   "execution_count": 61,
   "metadata": {},
   "outputs": [],
   "source": [
    "loss_fn = keras.losses.BinaryCrossentropy(from_logits=False)"
   ]
  },
  {
   "cell_type": "markdown",
   "metadata": {},
   "source": [
    "### Step 4. Compile the Model\n",
    "\n",
    "<b>Task:</b> In the code cell below, package the network architecture with the optimizer and the loss function using the `compile()` method. \n",
    "\n",
    "\n",
    "You will specify the optimizer, loss function and accuracy evaluation metric. Call the `nn_model.compile()` method with the following arguments:\n",
    "* Use the `optimizer` parameter and assign it your optimizer variable:`optimizer=sgd_optimizer`\n",
    "* Use the `loss` parameter and assign it your loss function variable: `loss=loss_fn`\n",
    "* Use the `metrics` parameter and assign it the `accuracy` evaluation metric: `metrics=['accuracy']`\n",
    "   "
   ]
  },
  {
   "cell_type": "code",
   "execution_count": 62,
   "metadata": {},
   "outputs": [],
   "source": [
    "nn_model.compile(optimizer=sgd_optimizer, loss=loss_fn, metrics=['accuracy'])"
   ]
  },
  {
   "cell_type": "markdown",
   "metadata": {},
   "source": [
    "## Part 6. Fit the Model to the Training Data"
   ]
  },
  {
   "cell_type": "markdown",
   "metadata": {},
   "source": [
    "We will define our own callback class to output information from our model while it is training. Make sure you execute the code cell below so that it can be used in subsequent cells."
   ]
  },
  {
   "cell_type": "code",
   "execution_count": 63,
   "metadata": {},
   "outputs": [],
   "source": [
    "class ProgBarLoggerNEpochs(keras.callbacks.Callback):\n",
    "    \n",
    "    def __init__(self, num_epochs: int, every_n: int = 50):\n",
    "        self.num_epochs = num_epochs\n",
    "        self.every_n = every_n\n",
    "    \n",
    "    def on_epoch_end(self, epoch, logs=None):\n",
    "        if (epoch + 1) % self.every_n == 0:\n",
    "            s = 'Epoch [{}/ {}]'.format(epoch + 1, self.num_epochs)\n",
    "            logs_s = ['{}: {:.4f}'.format(k.capitalize(), v)\n",
    "                      for k, v in logs.items()]\n",
    "            s_list = [s] + logs_s\n",
    "            print(', '.join(s_list))\n"
   ]
  },
  {
   "cell_type": "markdown",
   "metadata": {},
   "source": [
    "<b>Task:</b> In the code cell below, fit the neural network model to the training data.\n",
    "\n",
    "1. Call `nn_model.fit()` with the training data `X_train` and `y_train` as arguments. \n",
    "\n",
    "2. In addition, specify the following parameters:\n",
    "\n",
    "    * Use the `epochs` parameter and assign it the variable to `epochs`: `epochs=num_epochs`\n",
    "    * Use the `verbose` parameter and assign it the value of  0: `verbose=0`\n",
    "    * Use the `callbacks` parameter and assign it a list containing our logger function: \n",
    "    `callbacks=[ProgBarLoggerNEpochs(num_epochs, every_n=5)]`  \n",
    "    * We will use a portion of our training data to serve as validation data. Use the  `validation_split` parameter and assign it the value `0.2`\n",
    "    \n",
    "3. Save the results to the variable `history`. \n",
    "\n",
    "<b>Note</b>: This may take a while to run."
   ]
  },
  {
   "cell_type": "code",
   "execution_count": 64,
   "metadata": {},
   "outputs": [
    {
     "name": "stdout",
     "output_type": "stream",
     "text": [
      "Epoch [5/ 1000], Loss: 0.3942, Accuracy: 0.8217, Val_loss: 0.3966, Val_accuracy: 0.8157\n",
      "Epoch [10/ 1000], Loss: 0.3657, Accuracy: 0.8359, Val_loss: 0.3751, Val_accuracy: 0.8292\n",
      "Epoch [15/ 1000], Loss: 0.3486, Accuracy: 0.8452, Val_loss: 0.3660, Val_accuracy: 0.8352\n",
      "Epoch [20/ 1000], Loss: 0.3361, Accuracy: 0.8474, Val_loss: 0.3582, Val_accuracy: 0.8409\n",
      "Epoch [25/ 1000], Loss: 0.3264, Accuracy: 0.8546, Val_loss: 0.3584, Val_accuracy: 0.8361\n",
      "Epoch [30/ 1000], Loss: 0.3170, Accuracy: 0.8584, Val_loss: 0.3624, Val_accuracy: 0.8399\n",
      "Epoch [35/ 1000], Loss: 0.3088, Accuracy: 0.8611, Val_loss: 0.3639, Val_accuracy: 0.8368\n",
      "Epoch [40/ 1000], Loss: 0.2995, Accuracy: 0.8669, Val_loss: 0.3583, Val_accuracy: 0.8418\n",
      "Epoch [45/ 1000], Loss: 0.2906, Accuracy: 0.8727, Val_loss: 0.3596, Val_accuracy: 0.8454\n",
      "Epoch [50/ 1000], Loss: 0.2852, Accuracy: 0.8731, Val_loss: 0.3625, Val_accuracy: 0.8456\n",
      "Epoch [55/ 1000], Loss: 0.2769, Accuracy: 0.8797, Val_loss: 0.3774, Val_accuracy: 0.8385\n",
      "Epoch [60/ 1000], Loss: 0.2677, Accuracy: 0.8815, Val_loss: 0.3774, Val_accuracy: 0.8406\n",
      "Epoch [65/ 1000], Loss: 0.2600, Accuracy: 0.8863, Val_loss: 0.3943, Val_accuracy: 0.8268\n",
      "Epoch [70/ 1000], Loss: 0.2534, Accuracy: 0.8889, Val_loss: 0.3993, Val_accuracy: 0.8325\n",
      "Epoch [75/ 1000], Loss: 0.2414, Accuracy: 0.8945, Val_loss: 0.3918, Val_accuracy: 0.8428\n",
      "Epoch [80/ 1000], Loss: 0.2382, Accuracy: 0.8981, Val_loss: 0.3904, Val_accuracy: 0.8435\n",
      "Epoch [85/ 1000], Loss: 0.2303, Accuracy: 0.9002, Val_loss: 0.4100, Val_accuracy: 0.8340\n",
      "Epoch [90/ 1000], Loss: 0.2219, Accuracy: 0.9050, Val_loss: 0.4101, Val_accuracy: 0.8335\n",
      "Epoch [95/ 1000], Loss: 0.2135, Accuracy: 0.9092, Val_loss: 0.4344, Val_accuracy: 0.8206\n",
      "Epoch [100/ 1000], Loss: 0.2064, Accuracy: 0.9135, Val_loss: 0.4457, Val_accuracy: 0.8371\n",
      "Epoch [105/ 1000], Loss: 0.2018, Accuracy: 0.9146, Val_loss: 0.5558, Val_accuracy: 0.7764\n",
      "Epoch [110/ 1000], Loss: 0.1945, Accuracy: 0.9181, Val_loss: 0.5174, Val_accuracy: 0.8223\n",
      "Epoch [115/ 1000], Loss: 0.1875, Accuracy: 0.9234, Val_loss: 0.5969, Val_accuracy: 0.8145\n",
      "Epoch [120/ 1000], Loss: 0.1838, Accuracy: 0.9241, Val_loss: 0.5013, Val_accuracy: 0.8221\n",
      "Epoch [125/ 1000], Loss: 0.1711, Accuracy: 0.9299, Val_loss: 0.4933, Val_accuracy: 0.8221\n",
      "Epoch [130/ 1000], Loss: 0.1649, Accuracy: 0.9347, Val_loss: 0.4996, Val_accuracy: 0.8147\n",
      "Epoch [135/ 1000], Loss: 0.1708, Accuracy: 0.9315, Val_loss: 0.5110, Val_accuracy: 0.8261\n",
      "Epoch [140/ 1000], Loss: 0.1561, Accuracy: 0.9377, Val_loss: 0.5792, Val_accuracy: 0.8283\n",
      "Epoch [145/ 1000], Loss: 0.1442, Accuracy: 0.9416, Val_loss: 0.5923, Val_accuracy: 0.8363\n",
      "Epoch [150/ 1000], Loss: 0.1365, Accuracy: 0.9458, Val_loss: 0.5922, Val_accuracy: 0.8278\n",
      "Epoch [155/ 1000], Loss: 0.1339, Accuracy: 0.9458, Val_loss: 0.5798, Val_accuracy: 0.8061\n",
      "Epoch [160/ 1000], Loss: 0.1321, Accuracy: 0.9473, Val_loss: 0.5824, Val_accuracy: 0.8283\n",
      "Epoch [165/ 1000], Loss: 0.1293, Accuracy: 0.9485, Val_loss: 1.0774, Val_accuracy: 0.6993\n",
      "Epoch [170/ 1000], Loss: 0.1237, Accuracy: 0.9519, Val_loss: 0.6235, Val_accuracy: 0.8233\n",
      "Epoch [175/ 1000], Loss: 0.1129, Accuracy: 0.9566, Val_loss: 0.6313, Val_accuracy: 0.8133\n",
      "Epoch [180/ 1000], Loss: 0.1117, Accuracy: 0.9582, Val_loss: 0.6550, Val_accuracy: 0.8302\n",
      "Epoch [185/ 1000], Loss: 0.0987, Accuracy: 0.9623, Val_loss: 0.8857, Val_accuracy: 0.8280\n",
      "Epoch [190/ 1000], Loss: 0.1005, Accuracy: 0.9621, Val_loss: 0.7953, Val_accuracy: 0.7771\n",
      "Epoch [195/ 1000], Loss: 0.0906, Accuracy: 0.9652, Val_loss: 0.9785, Val_accuracy: 0.7571\n",
      "Epoch [200/ 1000], Loss: 0.0847, Accuracy: 0.9694, Val_loss: 0.9012, Val_accuracy: 0.8302\n",
      "Epoch [205/ 1000], Loss: 0.0864, Accuracy: 0.9667, Val_loss: 0.8598, Val_accuracy: 0.8294\n",
      "Epoch [210/ 1000], Loss: 0.0972, Accuracy: 0.9651, Val_loss: 0.9996, Val_accuracy: 0.8004\n",
      "Epoch [215/ 1000], Loss: 0.0716, Accuracy: 0.9753, Val_loss: 0.7876, Val_accuracy: 0.8147\n",
      "Epoch [220/ 1000], Loss: 0.0661, Accuracy: 0.9773, Val_loss: 0.8103, Val_accuracy: 0.8130\n",
      "Epoch [225/ 1000], Loss: 0.0755, Accuracy: 0.9742, Val_loss: 1.2818, Val_accuracy: 0.7167\n",
      "Epoch [230/ 1000], Loss: 0.1012, Accuracy: 0.9650, Val_loss: 0.9273, Val_accuracy: 0.8137\n",
      "Epoch [235/ 1000], Loss: 0.0599, Accuracy: 0.9789, Val_loss: 1.0872, Val_accuracy: 0.7414\n",
      "Epoch [240/ 1000], Loss: 0.0637, Accuracy: 0.9785, Val_loss: 0.9271, Val_accuracy: 0.8216\n",
      "Epoch [245/ 1000], Loss: 0.0737, Accuracy: 0.9753, Val_loss: 0.9872, Val_accuracy: 0.8204\n",
      "Epoch [250/ 1000], Loss: 0.0460, Accuracy: 0.9866, Val_loss: 0.9634, Val_accuracy: 0.8121\n",
      "Epoch [255/ 1000], Loss: 0.1021, Accuracy: 0.9675, Val_loss: 1.1930, Val_accuracy: 0.7676\n",
      "Epoch [260/ 1000], Loss: 0.0422, Accuracy: 0.9872, Val_loss: 1.0267, Val_accuracy: 0.8026\n",
      "Epoch [265/ 1000], Loss: 0.0523, Accuracy: 0.9848, Val_loss: 0.9667, Val_accuracy: 0.8083\n",
      "Epoch [270/ 1000], Loss: 0.0635, Accuracy: 0.9778, Val_loss: 1.0175, Val_accuracy: 0.8114\n",
      "Epoch [275/ 1000], Loss: 0.0308, Accuracy: 0.9911, Val_loss: 1.0572, Val_accuracy: 0.8035\n",
      "Epoch [280/ 1000], Loss: 0.0300, Accuracy: 0.9919, Val_loss: 1.0789, Val_accuracy: 0.8142\n",
      "Epoch [285/ 1000], Loss: 0.0327, Accuracy: 0.9901, Val_loss: 1.1031, Val_accuracy: 0.8192\n",
      "Epoch [290/ 1000], Loss: 0.0413, Accuracy: 0.9867, Val_loss: 1.0795, Val_accuracy: 0.8152\n",
      "Epoch [295/ 1000], Loss: 0.0301, Accuracy: 0.9914, Val_loss: 1.0676, Val_accuracy: 0.8126\n",
      "Epoch [300/ 1000], Loss: 0.0243, Accuracy: 0.9936, Val_loss: 1.1149, Val_accuracy: 0.8176\n",
      "Epoch [305/ 1000], Loss: 0.0166, Accuracy: 0.9963, Val_loss: 1.1969, Val_accuracy: 0.7950\n",
      "Epoch [310/ 1000], Loss: 0.0161, Accuracy: 0.9967, Val_loss: 1.2705, Val_accuracy: 0.8190\n",
      "Epoch [315/ 1000], Loss: 0.0843, Accuracy: 0.9681, Val_loss: 1.5373, Val_accuracy: 0.7441\n",
      "Epoch [320/ 1000], Loss: 0.0200, Accuracy: 0.9939, Val_loss: 1.1939, Val_accuracy: 0.8114\n",
      "Epoch [325/ 1000], Loss: 0.0142, Accuracy: 0.9967, Val_loss: 1.2400, Val_accuracy: 0.8142\n",
      "Epoch [330/ 1000], Loss: 0.0148, Accuracy: 0.9966, Val_loss: 1.2436, Val_accuracy: 0.8111\n",
      "Epoch [335/ 1000], Loss: 0.0117, Accuracy: 0.9974, Val_loss: 1.2835, Val_accuracy: 0.8135\n",
      "Epoch [340/ 1000], Loss: 0.0107, Accuracy: 0.9980, Val_loss: 1.7586, Val_accuracy: 0.7402\n",
      "Epoch [345/ 1000], Loss: 0.0446, Accuracy: 0.9829, Val_loss: 1.2565, Val_accuracy: 0.8190\n",
      "Epoch [350/ 1000], Loss: 0.0130, Accuracy: 0.9969, Val_loss: 1.2669, Val_accuracy: 0.8116\n",
      "Epoch [355/ 1000], Loss: 0.0095, Accuracy: 0.9983, Val_loss: 1.3040, Val_accuracy: 0.8137\n",
      "Epoch [360/ 1000], Loss: 0.0088, Accuracy: 0.9983, Val_loss: 1.3150, Val_accuracy: 0.8133\n",
      "Epoch [365/ 1000], Loss: 0.0157, Accuracy: 0.9963, Val_loss: 1.3670, Val_accuracy: 0.8147\n",
      "Epoch [370/ 1000], Loss: 0.0074, Accuracy: 0.9989, Val_loss: 1.3517, Val_accuracy: 0.8102\n",
      "Epoch [375/ 1000], Loss: 0.0078, Accuracy: 0.9980, Val_loss: 1.3892, Val_accuracy: 0.8121\n",
      "Epoch [380/ 1000], Loss: 0.0064, Accuracy: 0.9987, Val_loss: 1.4225, Val_accuracy: 0.8126\n",
      "Epoch [385/ 1000], Loss: 0.0050, Accuracy: 0.9995, Val_loss: 1.4367, Val_accuracy: 0.8137\n",
      "Epoch [390/ 1000], Loss: 0.0712, Accuracy: 0.9829, Val_loss: 1.7874, Val_accuracy: 0.8240\n",
      "Epoch [395/ 1000], Loss: 0.0600, Accuracy: 0.9782, Val_loss: 1.3205, Val_accuracy: 0.8088\n",
      "Epoch [400/ 1000], Loss: 0.0119, Accuracy: 0.9978, Val_loss: 1.3228, Val_accuracy: 0.8140\n",
      "Epoch [405/ 1000], Loss: 0.0133, Accuracy: 0.9961, Val_loss: 1.4741, Val_accuracy: 0.8230\n",
      "Epoch [410/ 1000], Loss: 0.0052, Accuracy: 0.9996, Val_loss: 1.3865, Val_accuracy: 0.8168\n",
      "Epoch [415/ 1000], Loss: 0.0045, Accuracy: 0.9995, Val_loss: 1.4124, Val_accuracy: 0.8099\n",
      "Epoch [420/ 1000], Loss: 0.0052, Accuracy: 0.9990, Val_loss: 1.4467, Val_accuracy: 0.8149\n",
      "Epoch [425/ 1000], Loss: 0.0043, Accuracy: 0.9993, Val_loss: 1.4561, Val_accuracy: 0.8107\n",
      "Epoch [430/ 1000], Loss: 0.0054, Accuracy: 0.9992, Val_loss: 1.4673, Val_accuracy: 0.8114\n",
      "Epoch [435/ 1000], Loss: 0.0053, Accuracy: 0.9992, Val_loss: 1.4822, Val_accuracy: 0.8121\n",
      "Epoch [440/ 1000], Loss: 0.0040, Accuracy: 0.9994, Val_loss: 1.5072, Val_accuracy: 0.8147\n",
      "Epoch [445/ 1000], Loss: 0.0037, Accuracy: 0.9993, Val_loss: 1.5261, Val_accuracy: 0.8107\n",
      "Epoch [450/ 1000], Loss: 0.1742, Accuracy: 0.9503, Val_loss: 1.4924, Val_accuracy: 0.8033\n",
      "Epoch [455/ 1000], Loss: 0.0129, Accuracy: 0.9971, Val_loss: 1.3901, Val_accuracy: 0.8121\n",
      "Epoch [460/ 1000], Loss: 0.0052, Accuracy: 0.9992, Val_loss: 1.4369, Val_accuracy: 0.8130\n",
      "Epoch [465/ 1000], Loss: 0.0035, Accuracy: 0.9996, Val_loss: 1.5096, Val_accuracy: 0.7971\n",
      "Epoch [470/ 1000], Loss: 0.0047, Accuracy: 0.9992, Val_loss: 1.4955, Val_accuracy: 0.8133\n",
      "Epoch [475/ 1000], Loss: 0.0029, Accuracy: 0.9998, Val_loss: 1.5160, Val_accuracy: 0.8140\n",
      "Epoch [480/ 1000], Loss: 0.0053, Accuracy: 0.9990, Val_loss: 1.5245, Val_accuracy: 0.8104\n",
      "Epoch [485/ 1000], Loss: 0.0029, Accuracy: 0.9998, Val_loss: 1.5488, Val_accuracy: 0.8126\n",
      "Epoch [490/ 1000], Loss: 0.0030, Accuracy: 0.9996, Val_loss: 1.5731, Val_accuracy: 0.8137\n",
      "Epoch [495/ 1000], Loss: 0.0029, Accuracy: 0.9996, Val_loss: 1.5839, Val_accuracy: 0.8126\n",
      "Epoch [500/ 1000], Loss: 0.0038, Accuracy: 0.9992, Val_loss: 1.6048, Val_accuracy: 0.8109\n",
      "Epoch [505/ 1000], Loss: 0.0027, Accuracy: 0.9995, Val_loss: 1.6117, Val_accuracy: 0.8137\n",
      "Epoch [510/ 1000], Loss: 0.0028, Accuracy: 0.9993, Val_loss: 1.6347, Val_accuracy: 0.8152\n",
      "Epoch [515/ 1000], Loss: 0.0020, Accuracy: 0.9999, Val_loss: 1.6366, Val_accuracy: 0.8102\n",
      "Epoch [520/ 1000], Loss: 0.0023, Accuracy: 0.9998, Val_loss: 1.6479, Val_accuracy: 0.8085\n",
      "Epoch [525/ 1000], Loss: 0.1651, Accuracy: 0.9546, Val_loss: 1.5912, Val_accuracy: 0.7933\n",
      "Epoch [530/ 1000], Loss: 0.0201, Accuracy: 0.9938, Val_loss: 1.4683, Val_accuracy: 0.8225\n",
      "Epoch [535/ 1000], Loss: 0.0033, Accuracy: 0.9997, Val_loss: 1.5155, Val_accuracy: 0.8085\n",
      "Epoch [540/ 1000], Loss: 0.0032, Accuracy: 0.9996, Val_loss: 1.5358, Val_accuracy: 0.8154\n",
      "Epoch [545/ 1000], Loss: 0.0027, Accuracy: 0.9998, Val_loss: 1.5582, Val_accuracy: 0.8130\n",
      "Epoch [550/ 1000], Loss: 0.0024, Accuracy: 0.9997, Val_loss: 1.5798, Val_accuracy: 0.8137\n",
      "Epoch [555/ 1000], Loss: 0.0024, Accuracy: 0.9996, Val_loss: 1.6140, Val_accuracy: 0.8157\n",
      "Epoch [560/ 1000], Loss: 0.0022, Accuracy: 0.9997, Val_loss: 1.6188, Val_accuracy: 0.8126\n",
      "Epoch [565/ 1000], Loss: 0.0022, Accuracy: 0.9997, Val_loss: 1.6286, Val_accuracy: 0.8133\n",
      "Epoch [570/ 1000], Loss: 0.0021, Accuracy: 0.9998, Val_loss: 1.6534, Val_accuracy: 0.8152\n",
      "Epoch [575/ 1000], Loss: 0.0028, Accuracy: 0.9997, Val_loss: 1.6589, Val_accuracy: 0.8123\n",
      "Epoch [580/ 1000], Loss: 0.0017, Accuracy: 0.9999, Val_loss: 1.6729, Val_accuracy: 0.8161\n",
      "Epoch [585/ 1000], Loss: 0.0018, Accuracy: 0.9999, Val_loss: 1.6802, Val_accuracy: 0.8114\n",
      "Epoch [590/ 1000], Loss: 0.0024, Accuracy: 0.9994, Val_loss: 1.7044, Val_accuracy: 0.8128\n",
      "Epoch [595/ 1000], Loss: 0.0019, Accuracy: 0.9998, Val_loss: 1.7023, Val_accuracy: 0.8130\n",
      "Epoch [600/ 1000], Loss: 0.0017, Accuracy: 0.9998, Val_loss: 1.7090, Val_accuracy: 0.8135\n",
      "Epoch [605/ 1000], Loss: 0.0021, Accuracy: 0.9996, Val_loss: 1.7296, Val_accuracy: 0.8142\n",
      "Epoch [610/ 1000], Loss: 0.0018, Accuracy: 0.9997, Val_loss: 1.7448, Val_accuracy: 0.8126\n",
      "Epoch [615/ 1000], Loss: 0.0025, Accuracy: 0.9994, Val_loss: 1.7392, Val_accuracy: 0.8090\n",
      "Epoch [620/ 1000], Loss: 0.0029, Accuracy: 0.9993, Val_loss: 1.7583, Val_accuracy: 0.8088\n",
      "Epoch [625/ 1000], Loss: 0.0018, Accuracy: 0.9996, Val_loss: 1.7571, Val_accuracy: 0.8140\n",
      "Epoch [630/ 1000], Loss: 0.0683, Accuracy: 0.9769, Val_loss: 1.6552, Val_accuracy: 0.8030\n",
      "Epoch [635/ 1000], Loss: 0.0035, Accuracy: 0.9995, Val_loss: 1.5906, Val_accuracy: 0.8095\n",
      "Epoch [640/ 1000], Loss: 0.0023, Accuracy: 0.9998, Val_loss: 1.6261, Val_accuracy: 0.8147\n",
      "Epoch [645/ 1000], Loss: 0.0024, Accuracy: 0.9996, Val_loss: 1.6515, Val_accuracy: 0.8130\n",
      "Epoch [650/ 1000], Loss: 0.0021, Accuracy: 0.9996, Val_loss: 1.6711, Val_accuracy: 0.8145\n",
      "Epoch [655/ 1000], Loss: 0.0017, Accuracy: 0.9998, Val_loss: 1.6999, Val_accuracy: 0.8128\n",
      "Epoch [660/ 1000], Loss: 0.0024, Accuracy: 0.9996, Val_loss: 1.7143, Val_accuracy: 0.8140\n",
      "Epoch [665/ 1000], Loss: 0.0017, Accuracy: 0.9997, Val_loss: 1.7213, Val_accuracy: 0.8111\n",
      "Epoch [670/ 1000], Loss: 0.0017, Accuracy: 0.9998, Val_loss: 1.7301, Val_accuracy: 0.8114\n",
      "Epoch [675/ 1000], Loss: 0.0014, Accuracy: 0.9998, Val_loss: 1.7422, Val_accuracy: 0.8111\n",
      "Epoch [680/ 1000], Loss: 0.0017, Accuracy: 0.9998, Val_loss: 1.7572, Val_accuracy: 0.8111\n",
      "Epoch [685/ 1000], Loss: 0.0019, Accuracy: 0.9996, Val_loss: 1.7623, Val_accuracy: 0.8145\n",
      "Epoch [690/ 1000], Loss: 0.0019, Accuracy: 0.9996, Val_loss: 1.7771, Val_accuracy: 0.8095\n",
      "Epoch [695/ 1000], Loss: 0.0014, Accuracy: 0.9998, Val_loss: 1.7827, Val_accuracy: 0.8135\n",
      "Epoch [700/ 1000], Loss: 0.0012, Accuracy: 0.9998, Val_loss: 1.7978, Val_accuracy: 0.8157\n",
      "Epoch [705/ 1000], Loss: 0.0015, Accuracy: 0.9998, Val_loss: 1.8063, Val_accuracy: 0.8126\n",
      "Epoch [710/ 1000], Loss: 0.0013, Accuracy: 0.9998, Val_loss: 1.8163, Val_accuracy: 0.8102\n",
      "Epoch [715/ 1000], Loss: 0.1427, Accuracy: 0.9598, Val_loss: 1.7143, Val_accuracy: 0.8221\n",
      "Epoch [720/ 1000], Loss: 0.0070, Accuracy: 0.9983, Val_loss: 1.6253, Val_accuracy: 0.8085\n",
      "Epoch [725/ 1000], Loss: 0.0018, Accuracy: 0.9999, Val_loss: 1.6554, Val_accuracy: 0.8123\n",
      "Epoch [730/ 1000], Loss: 0.0029, Accuracy: 0.9993, Val_loss: 1.6984, Val_accuracy: 0.8145\n",
      "Epoch [735/ 1000], Loss: 0.0021, Accuracy: 0.9997, Val_loss: 1.7062, Val_accuracy: 0.8118\n",
      "Epoch [740/ 1000], Loss: 0.0016, Accuracy: 0.9997, Val_loss: 1.7310, Val_accuracy: 0.8088\n",
      "Epoch [745/ 1000], Loss: 0.0020, Accuracy: 0.9996, Val_loss: 1.7393, Val_accuracy: 0.8145\n",
      "Epoch [750/ 1000], Loss: 0.0015, Accuracy: 0.9998, Val_loss: 1.7501, Val_accuracy: 0.8121\n",
      "Epoch [755/ 1000], Loss: 0.0024, Accuracy: 0.9996, Val_loss: 1.7591, Val_accuracy: 0.8140\n",
      "Epoch [760/ 1000], Loss: 0.0010, Accuracy: 0.9999, Val_loss: 1.7711, Val_accuracy: 0.8130\n",
      "Epoch [765/ 1000], Loss: 0.0020, Accuracy: 0.9993, Val_loss: 1.7869, Val_accuracy: 0.8123\n",
      "Epoch [770/ 1000], Loss: 0.0021, Accuracy: 0.9995, Val_loss: 1.8209, Val_accuracy: 0.8064\n",
      "Epoch [775/ 1000], Loss: 0.0014, Accuracy: 0.9998, Val_loss: 1.8093, Val_accuracy: 0.8114\n",
      "Epoch [780/ 1000], Loss: 0.0014, Accuracy: 0.9998, Val_loss: 1.8072, Val_accuracy: 0.8102\n",
      "Epoch [785/ 1000], Loss: 0.0015, Accuracy: 0.9997, Val_loss: 1.8200, Val_accuracy: 0.8109\n",
      "Epoch [790/ 1000], Loss: 0.0011, Accuracy: 0.9998, Val_loss: 1.8256, Val_accuracy: 0.8126\n",
      "Epoch [795/ 1000], Loss: 0.0011, Accuracy: 0.9997, Val_loss: 1.8243, Val_accuracy: 0.8123\n",
      "Epoch [800/ 1000], Loss: 0.0008, Accuracy: 1.0000, Val_loss: 1.8457, Val_accuracy: 0.8133\n",
      "Epoch [805/ 1000], Loss: 0.0009, Accuracy: 0.9999, Val_loss: 1.8507, Val_accuracy: 0.8097\n",
      "Epoch [810/ 1000], Loss: 0.0014, Accuracy: 0.9997, Val_loss: 1.8653, Val_accuracy: 0.8090\n",
      "Epoch [815/ 1000], Loss: 0.0009, Accuracy: 0.9998, Val_loss: 1.8642, Val_accuracy: 0.8123\n",
      "Epoch [820/ 1000], Loss: 0.0012, Accuracy: 0.9998, Val_loss: 1.8717, Val_accuracy: 0.8116\n",
      "Epoch [825/ 1000], Loss: 0.0021, Accuracy: 0.9996, Val_loss: 1.8916, Val_accuracy: 0.8123\n",
      "Epoch [830/ 1000], Loss: 0.0014, Accuracy: 0.9996, Val_loss: 1.8859, Val_accuracy: 0.8116\n",
      "Epoch [835/ 1000], Loss: 0.0012, Accuracy: 0.9996, Val_loss: 1.8918, Val_accuracy: 0.8095\n",
      "Epoch [840/ 1000], Loss: 0.0012, Accuracy: 0.9996, Val_loss: 1.8981, Val_accuracy: 0.8078\n",
      "Epoch [845/ 1000], Loss: 0.0007, Accuracy: 0.9999, Val_loss: 1.9026, Val_accuracy: 0.8107\n",
      "Epoch [850/ 1000], Loss: 0.0009, Accuracy: 0.9999, Val_loss: 1.9032, Val_accuracy: 0.8121\n",
      "Epoch [855/ 1000], Loss: 0.0017, Accuracy: 0.9996, Val_loss: 1.9122, Val_accuracy: 0.8114\n",
      "Epoch [860/ 1000], Loss: 0.0010, Accuracy: 0.9998, Val_loss: 1.9231, Val_accuracy: 0.8121\n",
      "Epoch [865/ 1000], Loss: 0.0012, Accuracy: 0.9999, Val_loss: 1.9266, Val_accuracy: 0.8095\n",
      "Epoch [870/ 1000], Loss: 0.0012, Accuracy: 0.9997, Val_loss: 1.9391, Val_accuracy: 0.8128\n",
      "Epoch [875/ 1000], Loss: 0.0014, Accuracy: 0.9996, Val_loss: 1.9363, Val_accuracy: 0.8140\n",
      "Epoch [880/ 1000], Loss: 0.0009, Accuracy: 0.9998, Val_loss: 1.9475, Val_accuracy: 0.8107\n",
      "Epoch [885/ 1000], Loss: 0.0665, Accuracy: 0.9767, Val_loss: 3.0308, Val_accuracy: 0.6715\n",
      "Epoch [890/ 1000], Loss: 0.0072, Accuracy: 0.9982, Val_loss: 1.7846, Val_accuracy: 0.8197\n",
      "Epoch [895/ 1000], Loss: 0.0020, Accuracy: 0.9997, Val_loss: 1.7320, Val_accuracy: 0.8114\n",
      "Epoch [900/ 1000], Loss: 0.0014, Accuracy: 0.9998, Val_loss: 1.7723, Val_accuracy: 0.8114\n",
      "Epoch [905/ 1000], Loss: 0.0013, Accuracy: 0.9998, Val_loss: 1.7891, Val_accuracy: 0.8104\n",
      "Epoch [910/ 1000], Loss: 0.0012, Accuracy: 0.9999, Val_loss: 1.7971, Val_accuracy: 0.8135\n",
      "Epoch [915/ 1000], Loss: 0.0019, Accuracy: 0.9997, Val_loss: 1.8076, Val_accuracy: 0.8145\n",
      "Epoch [920/ 1000], Loss: 0.0011, Accuracy: 0.9999, Val_loss: 1.8183, Val_accuracy: 0.8149\n",
      "Epoch [925/ 1000], Loss: 0.0013, Accuracy: 0.9997, Val_loss: 1.8410, Val_accuracy: 0.8154\n",
      "Epoch [930/ 1000], Loss: 0.0012, Accuracy: 0.9998, Val_loss: 1.8424, Val_accuracy: 0.8107\n",
      "Epoch [935/ 1000], Loss: 0.0014, Accuracy: 0.9996, Val_loss: 1.8588, Val_accuracy: 0.8152\n",
      "Epoch [940/ 1000], Loss: 0.0012, Accuracy: 0.9997, Val_loss: 1.8635, Val_accuracy: 0.8130\n",
      "Epoch [945/ 1000], Loss: 0.0014, Accuracy: 0.9996, Val_loss: 1.8709, Val_accuracy: 0.8164\n",
      "Epoch [950/ 1000], Loss: 0.0010, Accuracy: 0.9998, Val_loss: 1.8759, Val_accuracy: 0.8126\n",
      "Epoch [955/ 1000], Loss: 0.0008, Accuracy: 0.9999, Val_loss: 1.8867, Val_accuracy: 0.8126\n",
      "Epoch [960/ 1000], Loss: 0.0007, Accuracy: 0.9999, Val_loss: 1.9086, Val_accuracy: 0.8147\n",
      "Epoch [965/ 1000], Loss: 0.0010, Accuracy: 0.9997, Val_loss: 1.8981, Val_accuracy: 0.8099\n",
      "Epoch [970/ 1000], Loss: 0.0012, Accuracy: 0.9997, Val_loss: 1.9013, Val_accuracy: 0.8130\n",
      "Epoch [975/ 1000], Loss: 0.0009, Accuracy: 0.9998, Val_loss: 1.9201, Val_accuracy: 0.8114\n",
      "Epoch [980/ 1000], Loss: 0.0012, Accuracy: 0.9997, Val_loss: 1.9283, Val_accuracy: 0.8107\n",
      "Epoch [985/ 1000], Loss: 0.0011, Accuracy: 0.9998, Val_loss: 1.9260, Val_accuracy: 0.8118\n",
      "Epoch [990/ 1000], Loss: 0.0018, Accuracy: 0.9995, Val_loss: 1.9374, Val_accuracy: 0.8123\n",
      "Epoch [995/ 1000], Loss: 0.0007, Accuracy: 0.9998, Val_loss: 1.9495, Val_accuracy: 0.8135\n",
      "Epoch [1000/ 1000], Loss: 0.0017, Accuracy: 0.9996, Val_loss: 1.9454, Val_accuracy: 0.8114\n",
      "Elapsed time: 338.60s\n"
     ]
    }
   ],
   "source": [
    "t0 = time.time() # start time\n",
    "\n",
    "num_epochs = 1000 # epochs\n",
    "\n",
    "history = nn_model.fit(X_train, y_train, epochs=num_epochs, verbose=0, callbacks=[ProgBarLoggerNEpochs(num_epochs, every_n=5)], validation_split=0.2)\n",
    "\n",
    "\n",
    "t1 = time.time() # stop time\n",
    "\n",
    "print('Elapsed time: %.2fs' % (t1-t0))"
   ]
  },
  {
   "cell_type": "code",
   "execution_count": 65,
   "metadata": {},
   "outputs": [
    {
     "data": {
      "text/plain": [
       "dict_keys(['loss', 'accuracy', 'val_loss', 'val_accuracy'])"
      ]
     },
     "execution_count": 65,
     "metadata": {},
     "output_type": "execute_result"
    }
   ],
   "source": [
    "history.history.keys()"
   ]
  },
  {
   "cell_type": "markdown",
   "metadata": {},
   "source": [
    "### Visualize the Model's Performance Over Time\n",
    "\n",
    "The code below outputs both the training loss and accuracy and the validation loss and accuracy. Let us visualize the model's performance over time:"
   ]
  },
  {
   "cell_type": "code",
   "execution_count": 66,
   "metadata": {},
   "outputs": [
    {
     "data": {
      "image/png": "[encoded data removed]",
      "text/plain": [
       "<Figure size 640x480 with 1 Axes>"
      ]
     },
     "metadata": {},
     "output_type": "display_data"
    },
    {
     "data": {
      "image/png": "[encoded data removed]",
      "text/plain": [
       "<Figure size 640x480 with 1 Axes>"
      ]
     },
     "metadata": {},
     "output_type": "display_data"
    }
   ],
   "source": [
    "# Plot training and validation loss\n",
    "plt.plot(range(1, num_epochs + 1), history.history['loss'], label='Training Loss')\n",
    "plt.plot(range(1, num_epochs + 1), history.history['val_loss'], label='Validation Loss')\n",
    "\n",
    "plt.xlabel('Epoch')\n",
    "plt.ylabel('Loss')\n",
    "plt.legend()\n",
    "plt.show()\n",
    "\n",
    "\n",
    "# Plot training and validation accuracy\n",
    "plt.plot(range(1, num_epochs + 1), history.history['accuracy'], label='Training Accuracy')\n",
    "plt.plot(range(1, num_epochs + 1), history.history['val_accuracy'], label='Validation Accuracy')\n",
    "\n",
    "plt.xlabel('Epoch')\n",
    "plt.ylabel('Accuracy')\n",
    "plt.legend()\n",
    "plt.show()\n"
   ]
  },
  {
   "cell_type": "markdown",
   "metadata": {},
   "source": [
    "## Part 7. Evaluate the Model's Performance"
   ]
  },
  {
   "cell_type": "markdown",
   "metadata": {},
   "source": [
    "We just evaluated our model's performance on the training and validation data. Let's now evaluate its performance on our test data and compare the results.\n",
    "\n",
    "Keras makes the process of evaluating our model very easy. Recall that when we compiled the model, we specified the metric that we wanted to use to evaluate the model: accuracy. The Keras method `evaluate()` will return the loss and accuracy score of our model on our test data."
   ]
  },
  {
   "cell_type": "markdown",
   "metadata": {},
   "source": [
    "<b>Task:</b> In the code cell below, call `nn_model.evaluate()` with `X_test` and `y_test` as arguments. \n",
    "\n",
    "Note: The `evaluate()` method returns a list containing two values. The first value is the loss and the second value is the accuracy score.\n"
   ]
  },
  {
   "cell_type": "code",
   "execution_count": 67,
   "metadata": {},
   "outputs": [
    {
     "name": "stdout",
     "output_type": "stream",
     "text": [
      "219/219 [==============================] - 0s 490us/step - loss: 1.9496 - accuracy: 0.8102\n",
      "Loss: 1.9496012926101685 Accuracy: 0.8101627230644226\n"
     ]
    }
   ],
   "source": [
    "loss, accuracy = nn_model.evaluate(X_test, y_test)\n",
    "\n",
    "print('Loss: {0} Accuracy: {1}'.format(loss, accuracy))"
   ]
  },
  {
   "cell_type": "markdown",
   "metadata": {},
   "source": [
    "Next, for every example in the test set, we will make a prediction using the `predict()` method, receive a probability between 0.0 and 1.0, and then apply a threshold (we will use a threshold of 0.6) to obtain the predicted class. We will save the class label predictions to list `class_label_predictions`."
   ]
  },
  {
   "cell_type": "code",
   "execution_count": 47,
   "metadata": {},
   "outputs": [],
   "source": [
    "# Make predictions on the test set\n",
    "probability_predictions = nn_model.predict(X_test)\n",
    "class_label_predictions=[]\n",
    "\n",
    "for i in range(0,len(y_test)):\n",
    "    if probability_predictions[i] >= 0.6:\n",
    "        class_label_predictions.append(1)\n",
    "    else:\n",
    "        class_label_predictions.append(0)\n"
   ]
  },
  {
   "cell_type": "markdown",
   "metadata": {},
   "source": [
    "<b>Task</b>: In the code cell below, create a confusion matrix out of `y_test` and the list `class_label_predictions`."
   ]
  },
  {
   "cell_type": "code",
   "execution_count": 50,
   "metadata": {},
   "outputs": [
    {
     "data": {
      "text/plain": [
       "array([[4743,  528],\n",
       "       [ 828,  907]])"
      ]
     },
     "execution_count": 50,
     "metadata": {},
     "output_type": "execute_result"
    }
   ],
   "source": [
    "cm = confusion_matrix(y_test, class_label_predictions)\n",
    "cm"
   ]
  },
  {
   "cell_type": "markdown",
   "metadata": {},
   "source": [
    "## Part 8. Analysis\n",
    "\n",
    "Experiment with the neural network implementation above and compare your results every time you train the network. Pay attention to the time it takes to train the network, and the resulting loss and accuracy on both the training and test data. \n",
    "\n",
    "Below are some ideas for things you can try:\n",
    "\n",
    "* Adjust the learning rate.\n",
    "* Change the number of epochs by experimenting with different values for the variable `num_epochs`.\n",
    "* Add more hidden layers and/or experiment with different values for the `unit` parameter in the hidden layers to change the number of nodes in the hidden layers.\n",
    "\n",
    "\n",
    "Record your findings in the cell below."
   ]
  },
  {
   "cell_type": "markdown",
   "metadata": {},
   "source": [
    "At first, I got a loss of 1.4040679931640625 and an accuracy of 0.8024550676345825. Then, I tried a bunch of different combinations but got to the best result from a learning rate of 0.01, number of epochs to be 1000 and changed the unit parameter of the hidden layers to 128, 64, and 32 respectively and got a loss of 1.9496012926101685 and accuracy of 0.8101627230644226, although it did take 338.60s to run."
   ]
  }
 ],
 "metadata": {
  "kernelspec": {
   "display_name": "Python 3 (ipykernel)",
   "language": "python",
   "name": "python3"
  },
  "language_info": {
   "codemirror_mode": {
    "name": "ipython",
    "version": 3
   },
   "file_extension": ".py",
   "mimetype": "text/x-python",
   "name": "python",
   "nbconvert_exporter": "python",
   "pygments_lexer": "ipython3",
   "version": "3.9.19"
  },
  "toc": {
   "base_numbering": 1,
   "nav_menu": {},
   "number_sections": false,
   "sideBar": true,
   "skip_h1_title": false,
   "title_cell": "Table of Contents",
   "title_sidebar": "Contents",
   "toc_cell": false,
   "toc_position": {},
   "toc_section_display": true,
   "toc_window_display": false
  },
  "varInspector": {
   "cols": {
    "lenName": 16,
    "lenType": 16,
    "lenVar": 40
   },
   "kernels_config": {
    "python": {
     "delete_cmd_postfix": "",
     "delete_cmd_prefix": "del ",
     "library": "var_list.py",
     "varRefreshCmd": "print(var_dic_list())"
    },
    "r": {
     "delete_cmd_postfix": ") ",
     "delete_cmd_prefix": "rm(",
     "library": "var_list.r",
     "varRefreshCmd": "cat(var_dic_list()) "
    }
   },
   "types_to_exclude": [
    "module",
    "function",
    "builtin_function_or_method",
    "instance",
    "_Feature"
   ],
   "window_display": false
  }
 },
 "nbformat": 4,
 "nbformat_minor": 4
}
